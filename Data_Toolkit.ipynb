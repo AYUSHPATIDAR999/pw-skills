{
  "nbformat": 4,
  "nbformat_minor": 0,
  "metadata": {
    "colab": {
      "provenance": []
    },
    "kernelspec": {
      "name": "python3",
      "display_name": "Python 3"
    },
    "language_info": {
      "name": "python"
    }
  },
  "cells": [
    {
      "cell_type": "markdown",
      "source": [
        "Q1 What is NumPy, and why is it widely used in Python?\n",
        "NumPy is a Python library used for fast numerical computations. It provides a powerful n-dimensional array object and functions for performing operations like math, statistics, and linear algebra. It's widely used because it's faster and more efficient than Python lists and is the foundation for many other libraries like Pandas etc.\n",
        "\n",
        "Q2 How does broadcasting work in NumPy?\n",
        "Broadcasting allows NumPy to perform operations on arrays of different shapes without needing to manually reshape them. It automatically expands smaller arrays to match the shape of larger ones when doing element-wise operations, making the code cleaner and faster.\n",
        "import numpy as np\n",
        "a = np.array([1, 2, 3])\n",
        "b = 2\n",
        "print(a + b)\n",
        "\n",
        "Q3 What is a Pandas DataFrame?\n",
        "A DataFrame is a 2D labeled data structure in Pandas, like a table in Excel or SQL. It allows different types of data in each column and is great for organizing, analyzing, and manipulating datasets.\n",
        "\n",
        "Q4. Explain the use of the groupby() method in Pandas\n",
        "The groupby() method in Pandas is used to group rows based on column values and apply functions like sum, mean, or count to each group. It's helpful for summarizing and analyzing patterns within subsets of data.\n",
        "\n",
        "Q5 Why is Seaborn preferred for statistical visualizations?\n",
        "Seaborn is preferred because it makes it easy to create attractive, informative, and statistical plots. It works well with Pandas and has built-in support for complex plots like heatmaps, regressions, and distributions with minimal code.\n",
        "\n",
        "Q6 What are the differences between NumPy arrays and Python lists?\n",
        "NumPy arrays are faster, more memory-efficient, and support complex operations like broadcasting. Unlike Python lists, they can only hold one data type, but they’re ideal for large-scale numerical computations.\n",
        "\n",
        "Q7 What is a heatmap, and when should it be used?\n",
        "A heatmap is a data visualization technique that uses color to represent values in a matrix. It’s especially useful for Visualizing correlation matrices,Identifying patterns, clusters, or outliers in data.\n",
        "\n",
        "Q8 What does the term “vectorized operation” mean in NumPy?\n",
        "A vectorized operation refers to performing operations on entire arrays without explicit loops. NumPy leverages low-level optimizations (C/Fortran) for speed.\n",
        "\n",
        "Q9  How does Matplotlib differ from Plotly?\n",
        "Matplotlib is great for static, high-quality plots with full control, perfect for reports or papers. Plotly is better for interactive, web-friendly visuals with built-in features like zoom and hover. Use Matplotlib for traditional plots, and Plotly for interactive dashboards or online use.\n",
        "\n",
        "Q10 What is the significance of hierarchical indexing in Pandas?\n",
        "Hierarchical indexing (MultiIndex) allows Pandas to handle high-dimensional data in a 2D DataFrame, Index by multiple keys (e.g., Region > Country).\n",
        "Perform complex groupings and reshaping (stack(), unstack(), swaplevel()).\n",
        "\n",
        "Q11 What is the role of Seaborn’s pairplot() function?\n",
        "seaborn’s pairplot() is a quick way to visualize relationships between multiple variables. It creates a matrix of scatter plots and histograms, helping in initial data exploration, especially when analyzing feature relationships or class separation.\n",
        "\n",
        "Q12 What is the purpose of the describe() function in Pandas?\n",
        "The describe() function in Pandas provides summary statistics of numerical columns in a DataFrame, including count, mean, standard deviation, min, max, and quartiles. It's a quick way to understand the distribution and basic stats of your data.\n",
        "\n",
        "Q13 Why is handling missing data important in Pandas?\n",
        "Handling missing data is crucial in Pandas because missing values can distort analysis, cause errors in computation, and lead to incorrect conclusions. Techniques like filling, dropping, or imputing ensure your dataset remains reliable and clean.\n",
        "\n",
        "Q14 What are the benefits of using Plotly for data visualization?\n",
        "Plotly offers interactive, web-friendly visualizations with features like zoom, hover, and export. Its intuitive syntax and rich visuals make it ideal for dashboards, reports, and exploring complex datasets more dynamically than static charts.\n",
        "\n",
        "Q15 How does NumPy handle multidimensional arrays?\n",
        "NumPy handles multidimensional arrays through its ndarray structure, allowing fast and efficient computations on data in any number of dimensions (1D, 2D, 3D, etc.). This forms the core of most scientific computing in Python.\n",
        "\n",
        "Q16 What is the role of Bokeh in data visualization?\n",
        "Bokeh is a Python library that helps create interactive visualizations for the web. It’s designed for modern web browsers and supports complex dashboards with real-time updates, making it a good choice for live, user-driven data apps.\n",
        "\n",
        "Q17 Explain the difference between apply() and map() in Pandas?\n",
        "apply() is used to apply a function along an axis (rows or columns) of a DataFrame, making it flexible for complex row/column-wise operations. map() is more limited and is used only with Series, typically for element-wise transformations.\n",
        "\n",
        "Q18 What are some advanced features of NumPy?\n",
        "A: NumPy offers advanced features like broadcasting, which allows operations between arrays of different shapes, and memory-efficient views instead of making full copies. It also supports masked arrays for handling missing data, complex linear algebra functions, random number generation, and fast Fourier transforms, making it ideal for scientific computing.\n",
        "\n",
        "Q19 How does Pandas simplify time series analysis?\n",
        "A: Pandas makes time series analysis easier through automatic date parsing, time-based indexing, resampling, and rolling window calculations. It also supports frequency conversion, time zone handling, and powerful functions like resample() and asfreq() for aggregating and analyzing time-based data effortlessly.\n",
        "\n",
        "Q20 What is the role of a pivot table in Pandas?\n",
        "A pivot table in Pandas is used to summarize and reorganize data. It lets you group data by specific columns and apply aggregation functions like sum, mean, or count. This is useful for quickly generating insights from large datasets, similar to how pivot tables work in Excel.\n",
        "\n",
        "Q21 Why is NumPy’s array slicing faster than Python’s list slicing?\n",
        "NumPy array slicing is faster because arrays are stored in contiguous memory blocks and slicing returns views rather than copies. This memory-efficient structure allows NumPy to perform operations at lower levels (in C), significantly outperforming native Python lists.\n",
        "\n",
        "Q22What are some common use cases for Seaborn?\n",
        "Seaborn is commonly used for statistical data visualization. It’s great for plotting relationships between variables using scatter plots, line plots, or pairplot(), as well as visualizing distributions with histograms, KDEs, boxplots, and violin plots. It's especially useful during exploratory data analysis (EDA)."
      ],
      "metadata": {
        "id": "7Pq1-e_Jw9Ni"
      }
    },
    {
      "cell_type": "code",
      "source": [
        "# practical questions\n",
        "# Q1 How do you create a 2D NumPy array and calculate the sum of each row?\n",
        "import numpy as np\n",
        "\n",
        "arr = np.array([[1, 2, 3], [4, 5, 6], [7, 8, 9]])\n",
        "\n",
        "row_sums = np\n",
        "print(row_sums)"
      ],
      "metadata": {
        "id": "LtWuXXhf46oz"
      },
      "execution_count": 3,
      "outputs": []
    },
    {
      "cell_type": "code",
      "source": [
        "# Q2 Write a Pandas script to find the mean of a specific column in a DataFrame?\n",
        "import pandas as pd\n",
        "\n",
        "df = pd.DataFrame({'Age': [25, 30, 35, 40]})\n",
        "mean_age = df['Age'].mean()\n",
        "print(mean_age)"
      ],
      "metadata": {
        "colab": {
          "base_uri": "https://localhost:8080/"
        },
        "id": "glE00Rc45mPK",
        "outputId": "f6224cd2-0654-4bef-9253-fc1d0436ba47"
      },
      "execution_count": 4,
      "outputs": [
        {
          "output_type": "stream",
          "name": "stdout",
          "text": [
            "32.5\n"
          ]
        }
      ]
    },
    {
      "cell_type": "code",
      "source": [
        "# Q3 Create a scatter plot using Matplotlib?\n",
        "import matplotlib.pyplot as plt\n",
        "\n",
        "x = [1, 2, 3, 4]\n",
        "y = [10, 20, 25, 30]\n",
        "plt.scatter(x, y)\n",
        "plt.xlabel('X-axis')\n",
        "plt.ylabel('Y-axis')\n",
        "plt.title('Scatter Plot')\n",
        "plt.show()"
      ],
      "metadata": {
        "id": "4_GDvYFc6EuL"
      },
      "execution_count": null,
      "outputs": []
    },
    {
      "cell_type": "code",
      "source": [
        "# Q4 How do you calculate the correlation matrix using Seaborn and visualize it with a heatmap?\n",
        "import pandas as pd\n",
        "import seaborn as sns\n",
        "import matplotlib.pyplot as plt\n",
        "\n",
        "df = pd.DataFrame({\n",
        "    'A': [1, 2, 3, 4],\n",
        "    'B': [10, 20, 25, 30],\n",
        "    'C': [5, 3, 4, 2]})\n",
        "\n",
        "corr = df.corr()\n",
        "sns.heatmap(corr, annot=True, cmap='coolwarm')\n",
        "plt.title(\"Correlation Matrix Heatmap\")\n",
        "plt.show()"
      ],
      "metadata": {
        "id": "W5f4dHeN6QyC"
      },
      "execution_count": null,
      "outputs": []
    },
    {
      "cell_type": "code",
      "source": [
        "# Q5 Generate a bar plot using Plotly?\n",
        "import plotly.express as px\n",
        "\n",
        "data = {'Fruits': ['Apple', 'Banana', 'Orange'], 'Count': [10, 15, 7]}\n",
        "df = pd.DataFrame(data)\n",
        "\n",
        "fig = px.bar(df, x='Fruits', y='Count', title='Fruit Count')\n",
        "fig.show()"
      ],
      "metadata": {
        "id": "JOomyh5u6f6N"
      },
      "execution_count": null,
      "outputs": []
    },
    {
      "cell_type": "code",
      "source": [
        "# Q6 Create a DataFrame and add a new column based on an existing column?\n",
        "import pandas as pd\n",
        "\n",
        "data = {'Name': ['Ayush', 'dev', 'rahul'], 'Age': [25, 30, 35]}\n",
        "df = pd.DataFrame(data)\n",
        "df['Salary'] = [50000, 60000, 70000]\n",
        "print(df)"
      ],
      "metadata": {
        "colab": {
          "base_uri": "https://localhost:8080/"
        },
        "id": "j2TIWaTF6rrM",
        "outputId": "996e774f-9d47-455e-8e1e-088a7f15cae0"
      },
      "execution_count": 6,
      "outputs": [
        {
          "output_type": "stream",
          "name": "stdout",
          "text": [
            "    Name  Age  Salary\n",
            "0  Ayush   25   50000\n",
            "1    dev   30   60000\n",
            "2  rahul   35   70000\n"
          ]
        }
      ]
    },
    {
      "cell_type": "code",
      "source": [
        "# Q7 Write a program to perform element-wise multiplication of two NumPy arrays?\n",
        "import numpy as np\n",
        "\n",
        "arr1 = np.array([1, 2, 3])\n",
        "arr2 = np.array([4, 5, 6])\n",
        "result = arr1 * arr2\n",
        "print(result)"
      ],
      "metadata": {
        "colab": {
          "base_uri": "https://localhost:8080/"
        },
        "id": "gQUXq9HC7FQB",
        "outputId": "ceba3f79-dadb-48ca-eee8-55460c071d6e"
      },
      "execution_count": 7,
      "outputs": [
        {
          "output_type": "stream",
          "name": "stdout",
          "text": [
            "[ 4 10 18]\n"
          ]
        }
      ]
    },
    {
      "cell_type": "code",
      "source": [
        "# Q8 Create a line plot with multiple lines using Matplotlib?\n",
        "import matplotlib.pyplot as plt\n",
        "\n",
        "x = [1, 2, 3, 4]\n",
        "y1 = [10, 20, 25, 30]\n",
        "y2 = [5, 15, 20, 25]\n",
        "\n",
        "plt.plot(x, y1, label='Line 1', color='blue')\n",
        "plt.plot(x, y2, label='Line 2', color='green')\n",
        "plt.xlabel('X-axis')\n",
        "plt.ylabel('Y-axis')\n",
        "plt.title('Multiple Line Plot')\n",
        "plt.legend()\n",
        "plt.show()"
      ],
      "metadata": {
        "colab": {
          "base_uri": "https://localhost:8080/",
          "height": 472
        },
        "id": "uwxBcvE67hzJ",
        "outputId": "a3bd834f-b39a-4cba-8646-b3014173e91c"
      },
      "execution_count": 8,
      "outputs": [
        {
          "output_type": "display_data",
          "data": {
            "text/plain": [
              "<Figure size 640x480 with 1 Axes>"
            ],
            "image/png": "[encoded data removed]"
          },
          "metadata": {}
        }
      ]
    },
    {
      "cell_type": "code",
      "source": [
        "# Q9 Generate a Pandas DataFrame and filter rows where a column value is greater than a threshold?\n",
        "import pandas as pd\n",
        "\n",
        "df = pd.DataFrame({'Score': [45, 88, 72, 33]})\n",
        "filtered_df = df[df['Score'] > 50]\n",
        "print(filtered_df)"
      ],
      "metadata": {
        "colab": {
          "base_uri": "https://localhost:8080/"
        },
        "id": "xiATNcqB79ck",
        "outputId": "28e32b40-ff63-4566-b139-8651b9b96acc"
      },
      "execution_count": 9,
      "outputs": [
        {
          "output_type": "stream",
          "name": "stdout",
          "text": [
            "   Score\n",
            "1     88\n",
            "2     72\n"
          ]
        }
      ]
    },
    {
      "cell_type": "code",
      "source": [
        "# Q10 Create a histogram using Seaborn to visualize a distribution?\n",
        "import seaborn as sns\n",
        "import matplotlib.pyplot as plt\n",
        "\n",
        "data = [10, 20, 20, 30, 30, 30, 40, 40, 50]\n",
        "sns.histplot(data, bins=5, kde=True)\n",
        "plt.title('Histogram with KDE')\n",
        "plt.show()"
      ],
      "metadata": {
        "colab": {
          "base_uri": "https://localhost:8080/",
          "height": 452
        },
        "id": "i3zL5yO28LOP",
        "outputId": "a06ef4a5-c803-4257-f419-e43f1a049d70"
      },
      "execution_count": 10,
      "outputs": [
        {
          "output_type": "display_data",
          "data": {
            "text/plain": [
              "<Figure size 640x480 with 1 Axes>"
            ],
            "image/png": "[encoded data removed]"
          },
          "metadata": {}
        }
      ]
    },
    {
      "cell_type": "code",
      "source": [
        "# Q11 Perform matrix multiplication using NumPy?\n",
        "import numpy as np\n",
        "\n",
        "A = np.array([[1, 2], [3, 4]])\n",
        "B = np.array([[5, 6], [7, 8]])\n",
        "\n",
        "result = np.dot(A, B)\n",
        "print(result)"
      ],
      "metadata": {
        "colab": {
          "base_uri": "https://localhost:8080/"
        },
        "id": "UX4tsMEW8eLs",
        "outputId": "b013be22-c51a-4b33-96a2-f7994e546dcb"
      },
      "execution_count": 11,
      "outputs": [
        {
          "output_type": "stream",
          "name": "stdout",
          "text": [
            "[[19 22]\n",
            " [43 50]]\n"
          ]
        }
      ]
    },
    {
      "cell_type": "code",
      "source": [
        "# Q12 Use Pandas to load a CSV file and display its first 5 rows?\n",
        "import pandas as pd\n",
        "\n",
        "df = pd.read_csv('data.csv')\n",
        "print(df.head())"
      ],
      "metadata": {
        "id": "1aNfFBme8rPy"
      },
      "execution_count": null,
      "outputs": []
    },
    {
      "cell_type": "code",
      "source": [
        "# Q13 Create a 3D scatter plot using Plotly?\n",
        "import plotly.express as px\n",
        "\n",
        "df = pd.DataFrame({\n",
        "    'x': [1, 2, 3, 4],\n",
        "    'y': [10, 20, 25, 30],\n",
        "    'z': [5, 15, 20, 25]})\n",
        "\n",
        "fig = px.scatter_3d(df, x='x', y='y', z='z', title=\"3D Scatter Plot\")\n",
        "fig.show()"
      ],
      "metadata": {
        "colab": {
          "base_uri": "https://localhost:8080/",
          "height": 542
        },
        "id": "BZeDkEnK83a5",
        "outputId": "6ea3118a-183a-44ef-9d4a-b75999110864"
      },
      "execution_count": 12,
      "outputs": [
        {
          "output_type": "display_data",
          "data": {
            "text/html": [
              "<html>\n",
              "<head><meta charset=\"utf-8\" /></head>\n",
              "<body>\n",
              "    <div>            <script src=\"https://cdnjs.cloudflare.com/ajax/libs/mathjax/2.7.5/MathJax.js?config=TeX-AMS-MML_SVG\"></script><script type=\"text/javascript\">if (window.MathJax && window.MathJax.Hub && window.MathJax.Hub.Config) {window.MathJax.Hub.Config({SVG: {font: \"STIX-Web\"}});}</script>                <script type=\"text/javascript\">window.PlotlyConfig = {MathJaxConfig: 'local'};</script>\n",
              "        <script charset=\"utf-8\" src=\"https://cdn.plot.ly/plotly-2.35.2.min.js\"></script>                <div id=\"ebcd397d-3e93-4a1f-b447-5e0df895d05f\" class=\"plotly-graph-div\" style=\"height:525px; width:100%;\"></div>            <script type=\"text/javascript\">                                    window.PLOTLYENV=window.PLOTLYENV || {};                                    if (document.getElementById(\"ebcd397d-3e93-4a1f-b447-5e0df895d05f\")) {                    Plotly.newPlot(                        \"ebcd397d-3e93-4a1f-b447-5e0df895d05f\",                        [{\"hovertemplate\":\"x=%{x}\\u003cbr\\u003ey=%{y}\\u003cbr\\u003ez=%{z}\\u003cextra\\u003e\\u003c\\u002fextra\\u003e\",\"legendgroup\":\"\",\"marker\":{\"color\":\"#636efa\",\"symbol\":\"circle\"},\"mode\":\"markers\",\"name\":\"\",\"scene\":\"scene\",\"showlegend\":false,\"x\":[1,2,3,4],\"y\":[10,20,25,30],\"z\":[5,15,20,25],\"type\":\"scatter3d\"}],                        {\"template\":{\"data\":{\"histogram2dcontour\":[{\"type\":\"histogram2dcontour\",\"colorbar\":{\"outlinewidth\":0,\"ticks\":\"\"},\"colorscale\":[[0.0,\"#0d0887\"],[0.1111111111111111,\"#46039f\"],[0.2222222222222222,\"#7201a8\"],[0.3333333333333333,\"#9c179e\"],[0.4444444444444444,\"#bd3786\"],[0.5555555555555556,\"#d8576b\"],[0.6666666666666666,\"#ed7953\"],[0.7777777777777778,\"#fb9f3a\"],[0.8888888888888888,\"#fdca26\"],[1.0,\"#f0f921\"]]}],\"choropleth\":[{\"type\":\"choropleth\",\"colorbar\":{\"outlinewidth\":0,\"ticks\":\"\"}}],\"histogram2d\":[{\"type\":\"histogram2d\",\"colorbar\":{\"outlinewidth\":0,\"ticks\":\"\"},\"colorscale\":[[0.0,\"#0d0887\"],[0.1111111111111111,\"#46039f\"],[0.2222222222222222,\"#7201a8\"],[0.3333333333333333,\"#9c179e\"],[0.4444444444444444,\"#bd3786\"],[0.5555555555555556,\"#d8576b\"],[0.6666666666666666,\"#ed7953\"],[0.7777777777777778,\"#fb9f3a\"],[0.8888888888888888,\"#fdca26\"],[1.0,\"#f0f921\"]]}],\"heatmap\":[{\"type\":\"heatmap\",\"colorbar\":{\"outlinewidth\":0,\"ticks\":\"\"},\"colorscale\":[[0.0,\"#0d0887\"],[0.1111111111111111,\"#46039f\"],[0.2222222222222222,\"#7201a8\"],[0.3333333333333333,\"#9c179e\"],[0.4444444444444444,\"#bd3786\"],[0.5555555555555556,\"#d8576b\"],[0.6666666666666666,\"#ed7953\"],[0.7777777777777778,\"#fb9f3a\"],[0.8888888888888888,\"#fdca26\"],[1.0,\"#f0f921\"]]}],\"heatmapgl\":[{\"type\":\"heatmapgl\",\"colorbar\":{\"outlinewidth\":0,\"ticks\":\"\"},\"colorscale\":[[0.0,\"#0d0887\"],[0.1111111111111111,\"#46039f\"],[0.2222222222222222,\"#7201a8\"],[0.3333333333333333,\"#9c179e\"],[0.4444444444444444,\"#bd3786\"],[0.5555555555555556,\"#d8576b\"],[0.6666666666666666,\"#ed7953\"],[0.7777777777777778,\"#fb9f3a\"],[0.8888888888888888,\"#fdca26\"],[1.0,\"#f0f921\"]]}],\"contourcarpet\":[{\"type\":\"contourcarpet\",\"colorbar\":{\"outlinewidth\":0,\"ticks\":\"\"}}],\"contour\":[{\"type\":\"contour\",\"colorbar\":{\"outlinewidth\":0,\"ticks\":\"\"},\"colorscale\":[[0.0,\"#0d0887\"],[0.1111111111111111,\"#46039f\"],[0.2222222222222222,\"#7201a8\"],[0.3333333333333333,\"#9c179e\"],[0.4444444444444444,\"#bd3786\"],[0.5555555555555556,\"#d8576b\"],[0.6666666666666666,\"#ed7953\"],[0.7777777777777778,\"#fb9f3a\"],[0.8888888888888888,\"#fdca26\"],[1.0,\"#f0f921\"]]}],\"surface\":[{\"type\":\"surface\",\"colorbar\":{\"outlinewidth\":0,\"ticks\":\"\"},\"colorscale\":[[0.0,\"#0d0887\"],[0.1111111111111111,\"#46039f\"],[0.2222222222222222,\"#7201a8\"],[0.3333333333333333,\"#9c179e\"],[0.4444444444444444,\"#bd3786\"],[0.5555555555555556,\"#d8576b\"],[0.6666666666666666,\"#ed7953\"],[0.7777777777777778,\"#fb9f3a\"],[0.8888888888888888,\"#fdca26\"],[1.0,\"#f0f921\"]]}],\"mesh3d\":[{\"type\":\"mesh3d\",\"colorbar\":{\"outlinewidth\":0,\"ticks\":\"\"}}],\"scatter\":[{\"fillpattern\":{\"fillmode\":\"overlay\",\"size\":10,\"solidity\":0.2},\"type\":\"scatter\"}],\"parcoords\":[{\"type\":\"parcoords\",\"line\":{\"colorbar\":{\"outlinewidth\":0,\"ticks\":\"\"}}}],\"scatterpolargl\":[{\"type\":\"scatterpolargl\",\"marker\":{\"colorbar\":{\"outlinewidth\":0,\"ticks\":\"\"}}}],\"bar\":[{\"error_x\":{\"color\":\"#2a3f5f\"},\"error_y\":{\"color\":\"#2a3f5f\"},\"marker\":{\"line\":{\"color\":\"#E5ECF6\",\"width\":0.5},\"pattern\":{\"fillmode\":\"overlay\",\"size\":10,\"solidity\":0.2}},\"type\":\"bar\"}],\"scattergeo\":[{\"type\":\"scattergeo\",\"marker\":{\"colorbar\":{\"outlinewidth\":0,\"ticks\":\"\"}}}],\"scatterpolar\":[{\"type\":\"scatterpolar\",\"marker\":{\"colorbar\":{\"outlinewidth\":0,\"ticks\":\"\"}}}],\"histogram\":[{\"marker\":{\"pattern\":{\"fillmode\":\"overlay\",\"size\":10,\"solidity\":0.2}},\"type\":\"histogram\"}],\"scattergl\":[{\"type\":\"scattergl\",\"marker\":{\"colorbar\":{\"outlinewidth\":0,\"ticks\":\"\"}}}],\"scatter3d\":[{\"type\":\"scatter3d\",\"line\":{\"colorbar\":{\"outlinewidth\":0,\"ticks\":\"\"}},\"marker\":{\"colorbar\":{\"outlinewidth\":0,\"ticks\":\"\"}}}],\"scattermapbox\":[{\"type\":\"scattermapbox\",\"marker\":{\"colorbar\":{\"outlinewidth\":0,\"ticks\":\"\"}}}],\"scatterternary\":[{\"type\":\"scatterternary\",\"marker\":{\"colorbar\":{\"outlinewidth\":0,\"ticks\":\"\"}}}],\"scattercarpet\":[{\"type\":\"scattercarpet\",\"marker\":{\"colorbar\":{\"outlinewidth\":0,\"ticks\":\"\"}}}],\"carpet\":[{\"aaxis\":{\"endlinecolor\":\"#2a3f5f\",\"gridcolor\":\"white\",\"linecolor\":\"white\",\"minorgridcolor\":\"white\",\"startlinecolor\":\"#2a3f5f\"},\"baxis\":{\"endlinecolor\":\"#2a3f5f\",\"gridcolor\":\"white\",\"linecolor\":\"white\",\"minorgridcolor\":\"white\",\"startlinecolor\":\"#2a3f5f\"},\"type\":\"carpet\"}],\"table\":[{\"cells\":{\"fill\":{\"color\":\"#EBF0F8\"},\"line\":{\"color\":\"white\"}},\"header\":{\"fill\":{\"color\":\"#C8D4E3\"},\"line\":{\"color\":\"white\"}},\"type\":\"table\"}],\"barpolar\":[{\"marker\":{\"line\":{\"color\":\"#E5ECF6\",\"width\":0.5},\"pattern\":{\"fillmode\":\"overlay\",\"size\":10,\"solidity\":0.2}},\"type\":\"barpolar\"}],\"pie\":[{\"automargin\":true,\"type\":\"pie\"}]},\"layout\":{\"autotypenumbers\":\"strict\",\"colorway\":[\"#636efa\",\"#EF553B\",\"#00cc96\",\"#ab63fa\",\"#FFA15A\",\"#19d3f3\",\"#FF6692\",\"#B6E880\",\"#FF97FF\",\"#FECB52\"],\"font\":{\"color\":\"#2a3f5f\"},\"hovermode\":\"closest\",\"hoverlabel\":{\"align\":\"left\"},\"paper_bgcolor\":\"white\",\"plot_bgcolor\":\"#E5ECF6\",\"polar\":{\"bgcolor\":\"#E5ECF6\",\"angularaxis\":{\"gridcolor\":\"white\",\"linecolor\":\"white\",\"ticks\":\"\"},\"radialaxis\":{\"gridcolor\":\"white\",\"linecolor\":\"white\",\"ticks\":\"\"}},\"ternary\":{\"bgcolor\":\"#E5ECF6\",\"aaxis\":{\"gridcolor\":\"white\",\"linecolor\":\"white\",\"ticks\":\"\"},\"baxis\":{\"gridcolor\":\"white\",\"linecolor\":\"white\",\"ticks\":\"\"},\"caxis\":{\"gridcolor\":\"white\",\"linecolor\":\"white\",\"ticks\":\"\"}},\"coloraxis\":{\"colorbar\":{\"outlinewidth\":0,\"ticks\":\"\"}},\"colorscale\":{\"sequential\":[[0.0,\"#0d0887\"],[0.1111111111111111,\"#46039f\"],[0.2222222222222222,\"#7201a8\"],[0.3333333333333333,\"#9c179e\"],[0.4444444444444444,\"#bd3786\"],[0.5555555555555556,\"#d8576b\"],[0.6666666666666666,\"#ed7953\"],[0.7777777777777778,\"#fb9f3a\"],[0.8888888888888888,\"#fdca26\"],[1.0,\"#f0f921\"]],\"sequentialminus\":[[0.0,\"#0d0887\"],[0.1111111111111111,\"#46039f\"],[0.2222222222222222,\"#7201a8\"],[0.3333333333333333,\"#9c179e\"],[0.4444444444444444,\"#bd3786\"],[0.5555555555555556,\"#d8576b\"],[0.6666666666666666,\"#ed7953\"],[0.7777777777777778,\"#fb9f3a\"],[0.8888888888888888,\"#fdca26\"],[1.0,\"#f0f921\"]],\"diverging\":[[0,\"#8e0152\"],[0.1,\"#c51b7d\"],[0.2,\"#de77ae\"],[0.3,\"#f1b6da\"],[0.4,\"#fde0ef\"],[0.5,\"#f7f7f7\"],[0.6,\"#e6f5d0\"],[0.7,\"#b8e186\"],[0.8,\"#7fbc41\"],[0.9,\"#4d9221\"],[1,\"#276419\"]]},\"xaxis\":{\"gridcolor\":\"white\",\"linecolor\":\"white\",\"ticks\":\"\",\"title\":{\"standoff\":15},\"zerolinecolor\":\"white\",\"automargin\":true,\"zerolinewidth\":2},\"yaxis\":{\"gridcolor\":\"white\",\"linecolor\":\"white\",\"ticks\":\"\",\"title\":{\"standoff\":15},\"zerolinecolor\":\"white\",\"automargin\":true,\"zerolinewidth\":2},\"scene\":{\"xaxis\":{\"backgroundcolor\":\"#E5ECF6\",\"gridcolor\":\"white\",\"linecolor\":\"white\",\"showbackground\":true,\"ticks\":\"\",\"zerolinecolor\":\"white\",\"gridwidth\":2},\"yaxis\":{\"backgroundcolor\":\"#E5ECF6\",\"gridcolor\":\"white\",\"linecolor\":\"white\",\"showbackground\":true,\"ticks\":\"\",\"zerolinecolor\":\"white\",\"gridwidth\":2},\"zaxis\":{\"backgroundcolor\":\"#E5ECF6\",\"gridcolor\":\"white\",\"linecolor\":\"white\",\"showbackground\":true,\"ticks\":\"\",\"zerolinecolor\":\"white\",\"gridwidth\":2}},\"shapedefaults\":{\"line\":{\"color\":\"#2a3f5f\"}},\"annotationdefaults\":{\"arrowcolor\":\"#2a3f5f\",\"arrowhead\":0,\"arrowwidth\":1},\"geo\":{\"bgcolor\":\"white\",\"landcolor\":\"#E5ECF6\",\"subunitcolor\":\"white\",\"showland\":true,\"showlakes\":true,\"lakecolor\":\"white\"},\"title\":{\"x\":0.05},\"mapbox\":{\"style\":\"light\"}}},\"scene\":{\"domain\":{\"x\":[0.0,1.0],\"y\":[0.0,1.0]},\"xaxis\":{\"title\":{\"text\":\"x\"}},\"yaxis\":{\"title\":{\"text\":\"y\"}},\"zaxis\":{\"title\":{\"text\":\"z\"}}},\"legend\":{\"tracegroupgap\":0},\"title\":{\"text\":\"3D Scatter Plot\"}},                        {\"responsive\": true}                    ).then(function(){\n",
              "                            \n",
              "var gd = document.getElementById('ebcd397d-3e93-4a1f-b447-5e0df895d05f');\n",
              "var x = new MutationObserver(function (mutations, observer) {{\n",
              "        var display = window.getComputedStyle(gd).display;\n",
              "        if (!display || display === 'none') {{\n",
              "            console.log([gd, 'removed!']);\n",
              "            Plotly.purge(gd);\n",
              "            observer.disconnect();\n",
              "        }}\n",
              "}});\n",
              "\n",
              "// Listen for the removal of the full notebook cells\n",
              "var notebookContainer = gd.closest('#notebook-container');\n",
              "if (notebookContainer) {{\n",
              "    x.observe(notebookContainer, {childList: true});\n",
              "}}\n",
              "\n",
              "// Listen for the clearing of the current output cell\n",
              "var outputEl = gd.closest('.output');\n",
              "if (outputEl) {{\n",
              "    x.observe(outputEl, {childList: true});\n",
              "}}\n",
              "\n",
              "                        })                };                            </script>        </div>\n",
              "</body>\n",
              "</html>"
            ]
          },
          "metadata": {}
        }
      ]
    }
  ]
}