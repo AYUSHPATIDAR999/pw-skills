{
  "nbformat": 4,
  "nbformat_minor": 0,
  "metadata": {
    "colab": {
      "provenance": []
    },
    "kernelspec": {
      "name": "python3",
      "display_name": "Python 3"
    },
    "language_info": {
      "name": "python"
    }
  },
  "cells": [
    {
      "cell_type": "markdown",
      "source": [
        "1. What is a parameter?\n",
        "A parameter is a variable in a model that is learned from data during training. In machine learning, parameters are internal configuration values (like weights in linear regression or neural networks) that the algorithm adjusts to minimize error.\n",
        "\n",
        "2. What is correlation?\n",
        "Correlation is a statistical measure that describes the degree to which two variables move in relation to each other. It is typically measured with a correlation coefficient (like Pearson’s), which ranges from -1 to 1.\n",
        "\n",
        "3. What does negative correlation mean?\n",
        "A negative correlation means that as one variable increases, the other tends to decrease. For example, if hours of TV watched goes up and exam scores go down, they are negatively correlated.\n",
        "\n",
        "4. Define Machine Learning. What are the main components in Machine Learning?\n",
        "Machine Learning (ML) is a field of computer science that enables systems to learn from data and make predictions or decisions without being explicitly programmed.\n",
        "Main components:\n",
        "Data: The input for training and testing.\n",
        "Model: The algorithm that learns patterns from the data.\n",
        "Loss function: Measures how well the model is performing.\n",
        "Optimizer: Adjusts the model's parameters to reduce loss.\n",
        "Training: The process of learning from data.\n",
        "Evaluation: Assessing the model’s performance on unseen data.\n",
        "\n",
        "5. How does loss value help in determining whether the model is good or not?\n",
        "The loss value quantifies the difference between the predicted values and actual values. A lower loss indicates the model is making more accurate predictions. If the loss is high, the model is performing poorly.\n",
        "\n",
        "6. What are continuous and categorical variables?\n",
        "Continuous variables: Numeric values with infinite possibilities within a range (e.g., height, weight).\n",
        "Categorical variables: Values that represent categories or labels (e.g., gender, color, country).\n",
        "\n",
        "7. How do we handle categorical variables in Machine Learning? What are the common techniques?\n",
        "Common techniques to handle categorical variables:\n",
        "Label Encoding: Converts categories to integers.\n",
        "One-Hot Encoding: Creates binary columns for each category.\n",
        "Ordinal Encoding: Assigns ordered numbers to categories (used if order matters).\n",
        "Target Encoding: Replaces categories with the mean of the target variable (used cautiously).\n",
        "\n",
        "8. What do you mean by training and testing a dataset?\n",
        "Training set: The part of data used to train the model.\n",
        "Testing set: Data the model hasn’t seen before, used to evaluate performance. This ensures the model can generalize to new, unseen data.\n",
        "\n",
        "9. What is sklearn.preprocessing?\n",
        "sklearn.preprocessing is a module in Scikit-learn (a popular ML library in Python) that provides functions for scaling, encoding, normalizing, and transforming data before feeding it into a model.\n",
        "\n",
        "10.  How do we split data for model fitting (training and testing) in Python?\n",
        "You can use train_test_split from Scikit-learn:\n",
        "\n",
        "11.  Why do we have to perform EDA before fitting a model to the data?\n",
        "Exploratory Data Analysis (EDA) is essential before modeling because it helps you:\n",
        "Understand the data: Know the structure, distributions, and relationships.\n",
        "Detect anomalies: Identify outliers, missing values, or inconsistent data.\n",
        "Choose the right model: Some models require assumptions (e.g., normality, linearity).\n",
        "Select relevant features: Know which variables are important or redundant.\n",
        "Improve performance: Cleaning and transforming data leads to better model results\n",
        "\n",
        "12. What is correlation?\n",
        "Correlation is a statistical measure that describes the degree to which two variables move in relation to each other.\n",
        "Values range from -1 to 1:\n",
        "+1: perfect positive correlation\n",
        "0: no correlation\n",
        "-1: perfect negative correlation\n",
        "\n",
        "13. What does negative correlation mean?\n",
        "A negative correlation means that as one variable increases, the other decreases.\n",
        "Example: If hours of exercise increases and body weight decreases, they are negatively correlated.\n",
        "\n"
      ],
      "metadata": {
        "id": "men_4VsCzABj"
      }
    },
    {
      "cell_type": "code",
      "source": [
        "# 14. How can you find correlation between variables in Python?\n",
        "import pandas as pd\n",
        "\n",
        "df = pd.DataFrame({ 'A': [1, 2, 3, 4, 5], 'B': [10, 9, 8, 7, 6]})\n",
        "\n",
        "correlation_matrix = df.corr()\n",
        "\n",
        "print(correlation_matrix)\n"
      ],
      "metadata": {
        "colab": {
          "base_uri": "https://localhost:8080/"
        },
        "id": "nwsiH7CM1WCa",
        "outputId": "2a35fd93-c1d1-4db9-9bca-0f27cfa3b948"
      },
      "execution_count": null,
      "outputs": [
        {
          "output_type": "stream",
          "name": "stdout",
          "text": [
            "     A    B\n",
            "A  1.0 -1.0\n",
            "B -1.0  1.0\n"
          ]
        }
      ]
    },
    {
      "cell_type": "markdown",
      "source": [
        "15. What is causation? Explain the difference between correlation and causation with an example.\n",
        "Causation means that one variable directly affects another.\n",
        "Correlation ≠ Causation\n",
        "Just because two variables move together doesn't mean one causes the other.\n",
        "Example:\n",
        "Correlation: Ice cream sales and drowning rates both rise in summer.\n",
        "Causation: Hot weather increases both independently—ice cream doesn't cause drowning.\n",
        "\n",
        "16. What is an Optimizer? What are different types of optimizers? Explain each with an example.\n",
        "\n",
        "17.  What is sklearn.linear_model?\n",
        "sklearn.linear_model is a module in scikit-learn that provides linear models for regression and classification.\n",
        "Examples:\n",
        "LinearRegression – for linear regression.\n",
        "LogisticRegression – for binary/multiclass classification.\n",
        "Ridge, Lasso – for regularized regression.\n",
        "\n",
        "18. What does model.fit() do? What arguments must be given?\n",
        "model.fit() trains the model on given data.\n",
        "Arguments:\n",
        "X: Features (input data)\n",
        "y: Labels (target values)\n",
        "\n",
        "19. What does model.predict() do? What arguments must be given?\n",
        "model.predict() makes predictions using the trained model.\n",
        "Argument:\n",
        "X: Input data for which predictions are to be made\n",
        "\n",
        "20. What are continuous and categorical variables?\n",
        "Continuous → used in regression models.\n",
        "Categorical → may need encoding (like one-hot or label encoding) for ML models.\n",
        "\n",
        "21. What is Feature Scaling? How does it help in Machine Learning?\n",
        "Feature Scaling is the process of standardizing or normalizing the range of independent variables (features) in your dataset.\n",
        "\n",
        "23. What is sklearn.preprocessing?\n",
        "sklearn.preprocessing is a module in scikit-learn that contains tools to:\n",
        "Scale and normalize data (StandardScaler, MinMaxScaler)\n",
        "Encode categorical features (LabelEncoder, OneHotEncoder)\n",
        "Handle missing values and transform features.\n",
        "\n",
        "24. How do we split data for model fitting (training and testing) in Python?\n",
        "X, y: Features and target\n",
        "test_size: Fraction of data for testing\n",
        "random_state: Ensures reproducibility\n",
        "shuffle=True: Shuffles data before splitting (default)\n",
        "\n",
        "25. Explain Data Encoding\n",
        "Data Encoding converts categorical variables into numeric format so that ML models can understand them.\n"
      ],
      "metadata": {
        "id": "_r0sNWtY1sSp"
      }
    }
  ]
}