{
  "nbformat": 4,
  "nbformat_minor": 0,
  "metadata": {
    "colab": {
      "provenance": []
    },
    "kernelspec": {
      "name": "python3",
      "display_name": "Python 3"
    },
    "language_info": {
      "name": "python"
    }
  },
  "cells": [
    {
      "cell_type": "markdown",
      "source": [
        "Q1.What is the difference between interpreted and compiled languages?\n",
        "interpreted languages are executed line-by-line and are typically slower and more flexible, while compiled languages are converted to machine code beforehand, offering faster execution but often with more complexity during development\n",
        "\n",
        "Q2. What is exception handling in Python?\n",
        "Exception handling in Python lets you manage errors gracefully using try, except, else, and finally blocks. Instead of crashing when something goes wrong (like dividing by zero or using the wrong input), Python lets you catch and handle these errors. This makes your code more robust, user-friendly, and easier to debug.\n",
        "\n",
        "Q3.  What is the purpose of the finally block in exception handling?\n",
        "The finally block in Python is used to define code that always runs, no matter what — whether an exception was raised or not. It's typically used for cleanup actions, like closing files or releasing resources, to ensure that certain steps are taken even if an error occurs\n",
        "\n",
        "Q4. What is logging in Python?\n",
        "Logging in Python is the process of recording messages about your program’s execution. Instead of using print(), the logging module helps you track events, debug errors, and keep a history of what happens when your code runs. It supports different levels like DEBUG, INFO, WARNING, ERROR, and CRITICAL, and you can log messages to the console or to a file. It's a powerful tool for building reliable and maintainable applications\n",
        "\n",
        "Q5. What is the significance of the __del__ method in Python?\n",
        "The __del__ method in Python is a destructor — it's called automatically when an object is about to be destroyed (i.e., when there are no more references to it). Its main use is for cleanup tasks, like closing files or releasing external resources.\n",
        "\n",
        "Q6. What is the difference between import and from ... import in Python?\n",
        "Imports the entire module.\n",
        "You access functions or variables using the module name (e.g., math.sqrt).\n",
        "& Imports specific parts of a module.\n",
        "You can use the function or variable directly without the module prefix.\n",
        "\n",
        "Q7. How can you handle multiple exceptions in Python?\n",
        "try:\n",
        "    x = int(input(\"Enter a number: \"))\n",
        "    result = 10 / x\n",
        "except ValueError:\n",
        "    print(\"That's not a number!\")\n",
        "except ZeroDivisionError:\n",
        "    print(\"You can't divide by zero!\")\n",
        "\n",
        "Q8. What is the purpose of the with statement when handling files in Python?\n",
        "The with statement in Python is used to handle files safely and cleanly. It ensures that resources like files are properly opened and automatically closed, even if an error occurs\n",
        "\n",
        "Q9. What is the difference between multithreading and multiprocessing?\n",
        "Multithreading in Python allows multiple threads to run within a single process, sharing the same memory space. It’s ideal for I/O-bound tasks, but due to the Global Interpreter Lock (GIL), only one thread can execute Python code at a time. Multiprocessing, on the other hand, uses multiple processes with separate memory spaces, making it better for CPU-bound tasks and allowing true parallel execution, unaffected by the GIL.\n",
        "\n",
        "Q10. What are the advantages of using logging in a program?\n",
        "Logging in a program helps with debugging, error tracking, and provides a permanent record of execution. Unlike print(), it allows better control over message output and supports different log levels (e.g., DEBUG, ERROR). This makes it ideal for professional, production-ready applications, offering clearer insights into program behavior and easier issue resolution.\n",
        "\n",
        "Q11. What is memory management in Python?\n",
        "Memory management in Python refers to the process of efficiently allocating and deallocating memory during the execution of a program. Python automatically handles memory management using a combination of reference counting and garbage collection\n",
        "\n",
        "Q12. What are the basic steps involved in exception handling in Python?\n",
        "The except block catches the division by zero error & the finally block ensures that a cleanup action (if any) is performed.\n",
        "\n",
        "Q13. Why is memory management important in Python?\n",
        "Memory management is crucial in Python because it ensures that resources are used efficiently and that memory is properly allocated and freed. Effective memory management prevents memory leaks (unused memory that is not freed), which can slow down or crash a program. Python automatically handles memory through reference counting and garbage collection\n",
        "\n",
        "Q14. What is the role of try and except in exception handling?\n",
        "try tests a block of code for errors, and except catches those errors to prevent the program from crashing.\n",
        "\n",
        "Q15. How does Python's garbage collection system work?\n",
        "Python's garbage collection system is responsible for automatically managing memory by cleaning up unused objects and preventing memory leaks. It works primarily through reference counting and cyclic garbage collection.\n",
        "\n",
        "Q16. What is the purpose of the else block in exception handling?\n",
        "The else block is used for code that should only run if the try block succeeds without any exceptions. It helps organize error-handling logic and successful execution logic separately\n",
        "\n",
        "Q17. What are the common logging levels in Python?\n",
        "the common logging levels are DEBUG, INFO, WARNING, ERROR, and CRITICAL. These levels help categorize log messages by severity: DEBUG for detailed information, INFO for general updates, WARNING for potential issues, ERROR for problems that don't stop execution, and CRITICAL for severe issues that may halt the program. By setting a logging level, you can control which messages get logged based on their importance.\n",
        "\n",
        "Q18. What is the difference between os.fork() and multiprocessing in Python?\n",
        "os.fork() is a lower-level, platform-specific method for creating processes, while multiprocessing provides a more powerful, flexible, and cross-platform approach for handling parallelism and process management.\n",
        "\n",
        "Q19. What is the importance of closing a file in Python?\n",
        "Closing a file in Python is crucial to release system resources, ensure that all data is written to disk, and avoid memory or resource leaks. If a file is not closed, data may not be saved properly, and file locks may prevent other processes from accessing it. Using the with statement is a recommended way to ensure files are automatically closed after operations, even if an error occurs\n",
        "\n",
        "Q20. What is the difference between file.read() and file.readline() in Python?\n",
        "file.read() reads the whole file at once as a single string & file.readline() reads the file one line at a time.\n",
        "\n",
        "Q21. What is the logging module in Python used for?\n",
        "The logging module helps create logs for tracking program execution, managing errors, and debugging, while offering flexibility in how and where logs are recorded.\n",
        "\n",
        "Q22.  What is the os module in Python used for in file handling?\n",
        "The os module in Python is essential for file handling and interacting with the operating system. It allows you to perform tasks like creating, removing, and renaming files and directories, checking their existence, and manipulating paths.\n",
        "\n",
        "Q23. What are the challenges associated with memory management in Python?\n",
        "While Python's memory management system provides a lot of automation, developers still need to be aware of challenges like circular references, memory leaks, and inefficient memory usage. Using tools like garbage collection management, profiling tools, and more memory-efficient data structures can help mitigate these issues. Understanding how Python's memory management works and applying good practices ensures better performance and memory usage in your applications.\n",
        "\n",
        "Q24. How do you raise an exception manually in Python?\n",
        "You raise an exception manually using raise, which helps to trigger error handling in your program. This is useful for custom error conditions, validating inputs, and managing control flow\n",
        "\n",
        "Q25. Why is it important to use multithreading in certain applications?\n",
        "Multithreading is essential for applications that require improved responsiveness, better performance, or efficient resource utilization, especially when dealing with I/O-bound or CPU-bound tasks. It enables parallel execution of tasks, ensuring that programs are faster, more efficient, and more responsive to user inpu"
      ],
      "metadata": {
        "id": "xamnPbCayD37"
      }
    },
    {
      "cell_type": "code",
      "source": [
        "# PRACTICAL QUESTION\n",
        "# Q1. How can you open a file for writing in Python and write a string to it?\n",
        "file = open(\"example.txt\", \"w\")\n",
        "file.write(\"Hello, world!\")\n",
        "file.close()\n"
      ],
      "metadata": {
        "id": "-xPd90MnW4ru"
      },
      "execution_count": null,
      "outputs": []
    },
    {
      "cell_type": "code",
      "source": [
        "# Q2. Write a Python program to read the contents of a file and print each line?\n",
        "file = open(\"example.txt\", \"r\")\n",
        "for line in file:\n",
        "    print(line)\n",
        "file.close()\n"
      ],
      "metadata": {
        "colab": {
          "base_uri": "https://localhost:8080/"
        },
        "id": "2reSChIqXMNL",
        "outputId": "76bb09ef-315b-42fe-90d0-f85aa89e5b2e"
      },
      "execution_count": null,
      "outputs": [
        {
          "output_type": "stream",
          "name": "stdout",
          "text": [
            "Hello, world!\n"
          ]
        }
      ]
    },
    {
      "cell_type": "code",
      "source": [
        "# Q3. How would you handle a case where the file doesn't exist while trying to open it for reading?\n",
        "try:\n",
        "    with open('non_existent_file.txt', 'r') as file:\n",
        "        content = file.read()\n",
        "except FileNotFoundError:\n",
        "    print(\"Error: The file does not exist.\")"
      ],
      "metadata": {
        "colab": {
          "base_uri": "https://localhost:8080/"
        },
        "id": "zjZSJdFcX45g",
        "outputId": "2e4e796d-dfa7-44c4-fc8d-9cab30e8748d"
      },
      "execution_count": null,
      "outputs": [
        {
          "output_type": "stream",
          "name": "stdout",
          "text": [
            "Error: The file does not exist.\n"
          ]
        }
      ]
    },
    {
      "cell_type": "code",
      "source": [
        "# Q4. Write a Python script that reads from one file and writes its content to another file\n",
        "with open('input.txt', 'r') as input_file:\n",
        "    content = input_file.read()\n",
        "\n",
        "with open('output.txt', 'w') as output_file:\n",
        "    output_file.write(content)"
      ],
      "metadata": {
        "id": "B1VtWEZfYSjB"
      },
      "execution_count": null,
      "outputs": []
    },
    {
      "cell_type": "code",
      "source": [
        "# Q5. How would you catch and handle division by zero error in Python\n",
        "try:\n",
        "    result = 10 / 0\n",
        "except ZeroDivisionError:\n",
        "    print(\"Error: Division by zero is not allowed.\")"
      ],
      "metadata": {
        "colab": {
          "base_uri": "https://localhost:8080/"
        },
        "id": "3sUzj57BY97C",
        "outputId": "f2f6d3e5-d075-4bdd-b63c-65acc5555b84"
      },
      "execution_count": null,
      "outputs": [
        {
          "output_type": "stream",
          "name": "stdout",
          "text": [
            "Error: Division by zero is not allowed.\n"
          ]
        }
      ]
    },
    {
      "cell_type": "code",
      "source": [
        "# Q6. Write a Python program that logs an error message to a log file when a division by zero exception occurs\n",
        "import logging\n",
        "logging.basicConfig(filename='error.log', level=logging.ERROR)\n",
        "\n",
        "try:\n",
        "    result = 10 / 0\n",
        "except ZeroDivisionError as e:\n",
        "    logging.error(f\"Division by zero error occurred: {e}\")\n"
      ],
      "metadata": {
        "colab": {
          "base_uri": "https://localhost:8080/"
        },
        "id": "uPa_Nd8TeAGm",
        "outputId": "40443073-1b30-4494-ed39-c505124aa749"
      },
      "execution_count": null,
      "outputs": [
        {
          "output_type": "stream",
          "name": "stderr",
          "text": [
            "ERROR:root:Division by zero error occurred: division by zero\n"
          ]
        }
      ]
    },
    {
      "cell_type": "code",
      "source": [
        "# Q7.How do you log information at different levels (INFO, ERROR, WARNING) in Python using the logging module?\n",
        "import logging\n",
        "logging.basicConfig(level=logging.INFO)\n",
        "logging.info(\"This is an info message.\")\n",
        "\n",
        "logging.basicConfig(level=logging.ERROR)\n",
        "logging.error(\"This is an error message.\")\n",
        "\n",
        "logging.basicConfig(level=logging.WARNING)\n",
        "logging.warning(\"This is a warning message.\")\n",
        "\n"
      ],
      "metadata": {
        "colab": {
          "base_uri": "https://localhost:8080/"
        },
        "id": "I0xi-lcUedZG",
        "outputId": "38e00b59-ab21-4cbd-8065-87d4771bc6e8"
      },
      "execution_count": null,
      "outputs": [
        {
          "output_type": "stream",
          "name": "stderr",
          "text": [
            "ERROR:root:This is an error message.\n",
            "WARNING:root:This is a warning message.\n"
          ]
        }
      ]
    },
    {
      "cell_type": "code",
      "source": [
        "# Q8. Write a program to handle a file opening error using exception handling\n",
        "try:\n",
        "    file = open(\"non_existent_file.txt\", \"r\")\n",
        "    content = file.read()\n",
        "    file.close()\n",
        "except FileNotFoundError:\n",
        "    print(\"Error: The file does not exist.\")\n",
        "\n"
      ],
      "metadata": {
        "colab": {
          "base_uri": "https://localhost:8080/"
        },
        "id": "poenh4t6ecc7",
        "outputId": "6cc67951-3cd7-4055-81a6-afdf8da14f9f"
      },
      "execution_count": null,
      "outputs": [
        {
          "output_type": "stream",
          "name": "stdout",
          "text": [
            "Error: The file does not exist.\n"
          ]
        }
      ]
    },
    {
      "cell_type": "code",
      "source": [
        "# Q9. How can you read a file line by line and store its content in a list in Python\n",
        "lines = []\n",
        "with open('example.txt', 'r') as file:\n",
        "    lines = file.readlines()\n",
        "\n",
        "print(lines)"
      ],
      "metadata": {
        "colab": {
          "base_uri": "https://localhost:8080/"
        },
        "id": "_OwN6IjafP7N",
        "outputId": "75f1b8c5-9e05-4677-e28b-de713664d668"
      },
      "execution_count": null,
      "outputs": [
        {
          "output_type": "stream",
          "name": "stdout",
          "text": [
            "['Hello, world!']\n"
          ]
        }
      ]
    },
    {
      "cell_type": "code",
      "source": [
        "# Q10. How can you append data to an existing file in Python\n",
        "with open('example.txt', 'a') as file:\n",
        "    file.write('\\nAppended line.')"
      ],
      "metadata": {
        "id": "0u3DvRIqfP3w"
      },
      "execution_count": null,
      "outputs": []
    },
    {
      "cell_type": "code",
      "source": [
        "# Q11. Write a Python program that uses a try-except block to handle an error when attempting to access a dictionary key that doesn't exist\n",
        "my_dict = {'a': 1, 'b': 2, 'c': 3}\n",
        "try:\n",
        "    value = my_dict['d']\n",
        "except KeyError:\n",
        "    print(\"Error: Key 'd' does not exist in the dictionary.\")"
      ],
      "metadata": {
        "colab": {
          "base_uri": "https://localhost:8080/"
        },
        "id": "UsWbJ6syfEZv",
        "outputId": "0ae08f6a-1dd1-4da8-9ca8-2c67ba3b5bd5"
      },
      "execution_count": null,
      "outputs": [
        {
          "output_type": "stream",
          "name": "stdout",
          "text": [
            "Error: Key 'd' does not exist in the dictionary.\n"
          ]
        }
      ]
    },
    {
      "cell_type": "code",
      "source": [
        "# Q12. Write a program that demonstrates using multiple except blocks to handle different types of exceptions\n",
        "try:\n",
        "    result = 10 / 0\n",
        "except ZeroDivisionError:\n",
        "    print(\"Error: Division by zero is not allowed.\")\n",
        "except ValueError:\n",
        "    print(\"Error: An unexpected error occurred.\")\n"
      ],
      "metadata": {
        "colab": {
          "base_uri": "https://localhost:8080/"
        },
        "id": "7Ym7ZvyNgKhy",
        "outputId": "ea168ff4-50e4-4d89-9c3b-94b0173eaec0"
      },
      "execution_count": null,
      "outputs": [
        {
          "output_type": "stream",
          "name": "stdout",
          "text": [
            "Error: Division by zero is not allowed.\n"
          ]
        }
      ]
    },
    {
      "cell_type": "code",
      "source": [
        "# Q13. How would you check if a file exists before attempting to read it in Python\n",
        "import os\n",
        "\n",
        "file_path = 'example.txt'\n",
        "\n",
        "if os.path.exists(file_path):\n",
        "    with open(file_path, 'r') as file:\n",
        "        content = file.read()\n",
        "        print(content)\n",
        "\n",
        "else:\n",
        "    print(f\"Error: The file '{file_path}' does not exist.\")\n"
      ],
      "metadata": {
        "colab": {
          "base_uri": "https://localhost:8080/"
        },
        "id": "4QAVpjuWgKeM",
        "outputId": "7c0e70ca-43ae-4533-d3d2-930bb4114674"
      },
      "execution_count": null,
      "outputs": [
        {
          "output_type": "stream",
          "name": "stdout",
          "text": [
            "Hello, world!\n",
            "Appended line.\n",
            "Appended line.\n"
          ]
        }
      ]
    },
    {
      "cell_type": "code",
      "source": [
        "# Q14. Write a program that uses the logging module to log both informational and error messages\n",
        "import logging\n",
        "logging.basicConfig(level=logging.INFO)\n",
        "logging.info(\"This is an info message.\")\n",
        "\n",
        "logging.basicConfig(level=logging.ERROR)\n",
        "logging.error(\"This is an error message.\")"
      ],
      "metadata": {
        "colab": {
          "base_uri": "https://localhost:8080/"
        },
        "id": "eprO-YDIgKSy",
        "outputId": "c694781b-0c06-45aa-dc2b-93910294cb80"
      },
      "execution_count": null,
      "outputs": [
        {
          "output_type": "stream",
          "name": "stderr",
          "text": [
            "ERROR:root:This is an error message.\n"
          ]
        }
      ]
    },
    {
      "cell_type": "code",
      "source": [
        "# Q15. Write a Python program that prints the content of a file and handles the case when the file is empty\n",
        "try:\n",
        "    with open('empty_file.txt', 'r') as file:\n",
        "        content = file.read()\n",
        "        if content:\n",
        "            print(content)\n",
        "        else:\n",
        "            print(\"Error: The file is empty.\")\n",
        "\n",
        "except FileNotFoundError:\n",
        "    print(\"Error: File not found.\")\n",
        "except Exception as e:\n",
        "    print(f\"An error occurred: {e}\")\n",
        "\n"
      ],
      "metadata": {
        "colab": {
          "base_uri": "https://localhost:8080/"
        },
        "id": "Afe5cwtMgKDs",
        "outputId": "1088f740-9342-4f34-ee46-be72009f685b"
      },
      "execution_count": null,
      "outputs": [
        {
          "output_type": "stream",
          "name": "stdout",
          "text": [
            "Error: File not found.\n"
          ]
        }
      ]
    },
    {
      "cell_type": "code",
      "source": [
        "# Q16. Demonstrate how to use memory profiling to check the memory usage of a small program"
      ],
      "metadata": {
        "id": "smJ17IUKhWHJ"
      },
      "execution_count": null,
      "outputs": []
    },
    {
      "cell_type": "code",
      "source": [
        "# Q17. Write a Python program to create and write a list of numbers to a file, one number per line\n",
        "numbers = [1, 2, 3, 4, 5, 6, 7, 8, 9, 10]\n",
        "\n",
        "with open('numbers.txt', 'w') as file:\n",
        "    for number in numbers:\n",
        "        file.write(f\"{number}\\n\")\n",
        "\n",
        "print(\"Numbers written to 'numbers.txt' successfully.\")"
      ],
      "metadata": {
        "colab": {
          "base_uri": "https://localhost:8080/"
        },
        "id": "lnsfi-1Qhnm0",
        "outputId": "0ecc0639-c129-4c71-a83a-397977e71505"
      },
      "execution_count": null,
      "outputs": [
        {
          "output_type": "stream",
          "name": "stdout",
          "text": [
            "Numbers written to 'numbers.txt' successfully.\n"
          ]
        }
      ]
    },
    {
      "cell_type": "code",
      "source": [
        "# Q19.Write a program that handles both IndexError and KeyError using a try-except block\n",
        "try:\n",
        "    my_list = [1, 2, 3]\n",
        "    value = my_list[5]\n",
        "except IndexError:\n",
        "    print(\"Error: Index out of range.\")\n",
        "except KeyError:\n",
        "    print(\"Error: Key not found in dictionary.\")\n"
      ],
      "metadata": {
        "colab": {
          "base_uri": "https://localhost:8080/"
        },
        "id": "7R33TuRQiD6b",
        "outputId": "248fb036-2d58-4da1-cf07-b81950e1075d"
      },
      "execution_count": null,
      "outputs": [
        {
          "output_type": "stream",
          "name": "stdout",
          "text": [
            "Error: Index out of range.\n"
          ]
        }
      ]
    },
    {
      "cell_type": "code",
      "source": [
        "# Q20. How would you open a file and read its contents using a context manager in Python\n",
        "with open('example.txt', 'r') as file:\n",
        "    content = file.read()\n",
        "    print(content)"
      ],
      "metadata": {
        "id": "WTdetxpDiOg8"
      },
      "execution_count": null,
      "outputs": []
    },
    {
      "cell_type": "code",
      "source": [
        "# Q21.Write a Python program that reads a file and prints the number of occurrences of a specific word\n",
        "word_to_count = \"hello\"\n",
        "\n",
        "with open('example.txt', 'r') as file:\n",
        "    content = file.read()\n",
        "    word_count = content.lower().count"
      ],
      "metadata": {
        "id": "sDhAA1H1ilKz"
      },
      "execution_count": null,
      "outputs": []
    },
    {
      "cell_type": "code",
      "source": [
        "# Q22. How can you check if a file is empty before attempting to read its contents\n",
        "\n",
        "\n"
      ],
      "metadata": {
        "id": "4wXQSRM5i2dQ"
      },
      "execution_count": null,
      "outputs": []
    },
    {
      "cell_type": "code",
      "source": [
        "# Q23. Write a Python program that writes to a log file when an error occurs during file handling\n",
        "\n",
        "import logging\n",
        "\n",
        "logging.basicConfig(filename='error_log.txt', level=logging.ERROR)\n",
        "\n"
      ],
      "metadata": {
        "id": "M19OyImwjKiy"
      },
      "execution_count": null,
      "outputs": []
    }
  ]
}