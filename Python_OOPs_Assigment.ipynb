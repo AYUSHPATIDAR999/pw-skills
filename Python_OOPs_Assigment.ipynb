{
  "nbformat": 4,
  "nbformat_minor": 0,
  "metadata": {
    "colab": {
      "provenance": []
    },
    "kernelspec": {
      "name": "python3",
      "display_name": "Python 3"
    },
    "language_info": {
      "name": "python"
    }
  },
  "cells": [
    {
      "cell_type": "markdown",
      "source": [
        "Q 1. What is Object-Oriented Programming (OOP)?\n",
        "Object-Oriented Programming (OOP) is a programming approach that organizes code into objects, which are instances of classes. These objects combine data (attributes) and behavior (methods) into a single unit. OOP is built on four main principles: encapsulation (hiding internal details), inheritance (reusing code through parent-child relationships), polymorphism (using the same interface for different underlying forms), and abstraction (simplifying complex systems by focusing on essential features). It helps make code more modular, reusable, and easier to maintain\n",
        "\n",
        "Q 2. What is a class in OOP?\n",
        "A class is a blueprint or template for creating objects. It defines a set of attributes and methods that the created objects (instances) will have.\n",
        "\n",
        "Q 3. What is an object in OOP?\n",
        "An object is an instance of a class. It has the properties (attributes) and behaviors (methods) defined in its class.\n",
        "\n",
        "Q 4. What is the difference between abstraction and encapsulation?\n",
        "Abstraction is about what an object does,&\n",
        "Encapsulation is about how it hides its data and internal workings\n",
        "\n",
        "Q 5.  What are dunder methods in Python?\n",
        "Dunder methods provide a powerful way to define how objects of your class interact with the built-in Python operations, making them more flexible and integrated into Python's features\n",
        "\n",
        "Q 6. Explain the concept of inheritance in OOP?\n",
        "Inheritance in Object-Oriented Programming (OOP) is a concept where a class (called a child or subclass) can inherit properties and behaviors (methods and attributes) from another class (called a parent or superclass)\n",
        "\n",
        "Q 7.What is polymorphism in OOP?\n",
        "Polymorphism in Object-Oriented Programming (OOP) means \"many forms\", and it allows objects of different classes to be treated as objects of a common superclass. It enables a single interface (like a method name) to behave differently based on the object it is acting upon.\n",
        "\n",
        "Q 8. How is encapsulation achieved in Python?\n",
        "Encapsulation in Python is achieved by restricting direct access to an object's internal data and methods, and instead using public methods (getters/setters) to access or modify that data. This helps protect the internal state of the object and promotes better control and security.\n",
        "\n",
        "Q 9. What is a constructor in Python?\n",
        "A constructor is a special method called when an object is created. In Python, it’s the __init__ method.\n",
        "\n",
        "Q 10. What are class and static methods in Python?\n",
        "class methods and static methods are special types of methods that behave differently from regular instance methods. They're defined using decorators: @classmethod and @staticmethod.\n",
        "\n",
        "Q 11. What is method overloading in Python?\n",
        "Method overloading in Python means having a method that can do different things based on the arguments you pass.\n",
        "\n",
        "Q 12. What is method overriding in OOP?\n",
        "in OOP, method overriding occurs when a subclass provides a specific implementation of a method that’s already defined in its superclass\n",
        "\n",
        "Q 13. What is a property decorator in Python?\n",
        "The @property decorator in Python is used to turn a method into a getter — so you can access it like an attribute, without using parentheses.\n",
        "\n",
        "Q 14. Why is polymorphism important in OOP?\n",
        "Polymorphism allows different classes to be treated as if they were the same type through a common interface (like a parent class or method name)\n",
        "\n",
        "Q 15. What is an abstract class in Python?\n",
        "An abstract class is a class that cannot be instantiated and is meant to be inherited. It can have abstract methods (methods without implementation) that must be overridden in child classes.\n",
        "\n",
        "Q 16. What are the advantages of OOP?\n",
        "Object-Oriented Programming (OOP) makes coding easier by organizing code into objects and classes. It allows reusing code through inheritance, protecting data using encapsulation, and writing flexible code with polymorphism. OOP also makes programs more organized, easier to update, and maintain, especially for large projects\n",
        "\n",
        "Q 17. What is the difference between a class variable and an instance variable?\n",
        "Class Variable- Shared across all instances & Instance Variable- Unique to each instance of the class\n",
        "\n",
        "Q 18. What is multiple inheritance in Python?\n",
        "Multiple inheritance in Python refers to a class inheriting from more than one parent class. This allows a child class to inherit attributes and methods from multiple classes, making it possible to combine functionality from different sources\n",
        "\n",
        "Q 19. Explain the purpose of ‘’__str__’ and ‘__repr__’ ‘ methods in Python?\n",
        "Use __str__ for a nice, human-readable string & Use __repr__ for a detailed, unambiguous string, typically for debugging\n",
        "\n",
        "Q 20. What is the significance of the ‘super()’ function in Python?\n",
        "The super() function allows you to-\n",
        "Call methods from the parent class, Avoid explicitly referencing the parent class, making the code more flexible, Ensure proper method resolution, especially in complex class hierarchies.\n",
        "\n",
        "Q 21. What is the significance of the __del__ method in Python?\n",
        "The __del__ method is used for cleaning up resources when an object is destroyed, but its use is typically reserved for situations where manual cleanup is required. Python's garbage collection system calls it automatically when an object is about to be destroyed\n",
        "\n",
        "Q 22. What is the difference between @staticmethod and @classmethod in Python?\n",
        "Use @staticmethod when the method doesn't need access to the class or instance, and is logically tied to the class.\n",
        "Use @classmethod when the method needs to modify or access class-level attributes or methods.\n",
        "\n",
        "Q 23. How does polymorphism work in Python with inheritance?\n",
        "Polymorphism in Python allows different classes to provide their own implementation of the same method, and the correct method is called based on the object type. This makes code more flexible, reusable, and extensible\n",
        "\n",
        "Q 24. What is method chaining in Python OOP?\n",
        "Method chaining is a technique in Python OOP where multiple methods are called on the same object in a single line, and each method returns the object itself. This leads to more concise, readable, and expressive code\n",
        "\n",
        "Q 25. What is the purpose of the __call__ method in Python?\n",
        "The __call__ method allows an object to be called like a function. This gives the object function-like behavior while still allowing it to maintain its own state and attributes."
      ],
      "metadata": {
        "id": "iLgZn0yIMN-4"
      }
    },
    {
      "cell_type": "markdown",
      "source": [
        "\n",
        "\n",
        "---\n",
        "\n"
      ],
      "metadata": {
        "id": "hOLQQnQGLSZj"
      }
    },
    {
      "cell_type": "code",
      "source": [
        "#PRACTICAL QUESTIONS\n",
        "\n",
        "#Q1. Create a parent class Animal with a method speak() that prints a generic message. Create a child class Dog that overrides the speak() method to print \"Bark!\n",
        "class Animal:\n",
        "  def speak(self):\n",
        "    print(\"animal make a sound\")\n",
        "\n",
        "class Dog(Animal):\n",
        "  def speak(self):\n",
        "    print(\"Bark!\")\n",
        "\n",
        "dog = Dog()\n",
        "dog.speak()\n"
      ],
      "metadata": {
        "colab": {
          "base_uri": "https://localhost:8080/"
        },
        "id": "ffoVh7S2RMKi",
        "outputId": "83338310-9292-49c2-bd15-3706358f4abd"
      },
      "execution_count": null,
      "outputs": [
        {
          "output_type": "stream",
          "name": "stdout",
          "text": [
            "Bark!\n"
          ]
        }
      ]
    },
    {
      "cell_type": "code",
      "source": [
        "#Q2. Write a program to create an abstract class Shape with a method area(). Derive classes Circle and Rectangle from it and implement the area() method in both\n",
        "from abc import ABC, abstractmethod\n",
        "import math\n",
        "\n",
        "class Shape(ABC):\n",
        "    @abstractmethod\n",
        "    def area(self):\n",
        "        pass\n",
        "\n",
        "class Circle(Shape):\n",
        "    def __init__(self, radius):\n",
        "        self.radius = radius\n",
        "\n",
        "    def area(self):\n",
        "        return math.pi * self.radius ** 2\n",
        "\n",
        "class Rectangle(Shape):\n",
        "    def __init__(self, length, width):\n",
        "        self.length = length\n",
        "        self.width = width\n",
        "\n",
        "    def area(self):\n",
        "        return self.length * self.width\n",
        "\n",
        "\n",
        "circle = Circle(5)\n",
        "rectangle = Rectangle(4, 6)\n",
        "\n",
        "print(f\"Area of Circle: {circle.area():.2f}\")\n",
        "print(f\"Area of Rectangle: {rectangle.area()}\")\n"
      ],
      "metadata": {
        "id": "yaL_58YKSMmX",
        "colab": {
          "base_uri": "https://localhost:8080/"
        },
        "outputId": "53355e74-74f2-42f6-d441-cb823366c2f2"
      },
      "execution_count": 18,
      "outputs": [
        {
          "output_type": "stream",
          "name": "stdout",
          "text": [
            "Area of Circle: 78.54\n",
            "Area of Rectangle: 24\n"
          ]
        }
      ]
    },
    {
      "cell_type": "code",
      "source": [
        "#Q3. Implement a multi-level inheritance scenario where a class Vehicle has an attribute type. Derive a class Car and further derive a class ElectricCar that adds a battery attribute\n",
        "class Vehicle:\n",
        "    def __init__(self, vehicle_type):\n",
        "        self.type = vehicle_type\n",
        "\n",
        "class Car(Vehicle):\n",
        "    def __init__(self, car_type):\n",
        "        super().__init__(\"Car\")\n",
        "        self.car_type = car_type\n",
        "\n",
        "class ElectricCar(Car):\n",
        "    def __init__(self, car_type, battery_capacity):\n",
        "        super().__init__(car_type)\n",
        "        self.battery_capacity = battery_capacity\n",
        "\n",
        "electric_car = ElectricCar(\"Sedan\", \"40kWh\")\n",
        "\n",
        "print(f\"Type of Vehicle: {electric_car.type}\")\n",
        "print(f\"Type of Car: {electric_car.car_type}\")\n",
        "print(f\"Battery Capacity: {electric_car.battery_capacity}\")\n"
      ],
      "metadata": {
        "id": "ul5H1r39Srz1",
        "colab": {
          "base_uri": "https://localhost:8080/"
        },
        "outputId": "12edf816-4578-49d4-99da-ce46ffae3280"
      },
      "execution_count": 19,
      "outputs": [
        {
          "output_type": "stream",
          "name": "stdout",
          "text": [
            "Type of Vehicle: Car\n",
            "Type of Car: Sedan\n",
            "Battery Capacity: 40kWh\n"
          ]
        }
      ]
    },
    {
      "cell_type": "code",
      "source": [
        "#Q4. Demonstrate polymorphism by creating a base class Bird with a method fly(). Create two derived classes Sparrow and Penguin that override the fly() method\n",
        "class Bird:\n",
        "    def fly(self):\n",
        "        pass\n",
        "\n",
        "class Sparrow(Bird):\n",
        "    def fly(self):\n",
        "        print(\"Sparrow flies in the sky.\")\n",
        "\n",
        "class Penguin(Bird):\n",
        "    def fly(self):\n",
        "        print(\"Penguins cannot fly.\")\n",
        "\n",
        "\n",
        "def make_bird_fly(bird):\n",
        "    bird.fly()\n",
        "\n",
        "\n",
        "sparrow = Sparrow()\n",
        "penguin = Penguin()\n",
        "\n",
        "make_bird_fly(sparrow)\n",
        "make_bird_fly(penguin)\n"
      ],
      "metadata": {
        "colab": {
          "base_uri": "https://localhost:8080/"
        },
        "id": "h9Ubl7FWjn56",
        "outputId": "7dccd5e5-0da9-48f6-dd01-7826be3a1581"
      },
      "execution_count": 1,
      "outputs": [
        {
          "output_type": "stream",
          "name": "stdout",
          "text": [
            "Sparrow flies in the sky.\n",
            "Penguins cannot fly.\n"
          ]
        }
      ]
    },
    {
      "cell_type": "code",
      "source": [
        "#5.  Write a program to demonstrate encapsulation by creating a class BankAccount with private attributes balance and methods to deposit, withdraw, and check balance\n",
        "class BankAccount:\n",
        "    def __init__(self, initial_balance=0):\n",
        "        self.__balance = initial_balance\n",
        "\n",
        "    def deposit(self, amount):\n",
        "        if amount > 0:\n",
        "            self.__balance += amount\n",
        "            print(f\"Deposited: ${amount}\")\n",
        "        else:\n",
        "            print(\"Deposit amount must be positive.\")\n",
        "\n",
        "    def withdraw(self, amount):\n",
        "        if amount > 0 and amount <= self.__balance:\n",
        "            self.__balance -= amount\n",
        "            print(f\"Withdrew: ${amount}\")\n",
        "        elif amount > self.__balance:\n",
        "            print(\"Insufficient balance.\")\n",
        "        else:\n",
        "            print(\"Withdrawal amount must be positive.\")\n",
        "\n",
        "\n",
        "    def check_balance(self):\n",
        "        print(f\"Current balance: ${self.__balance}\")\n",
        "\n",
        "account = BankAccount(1000)\n",
        "\n",
        "\n",
        "account.deposit(500)\n",
        "account.check_balance()\n",
        "\n",
        "\n",
        "account.withdraw(200)\n",
        "account.check_balance()\n",
        "\n",
        "account.withdraw(1500)\n",
        "account.check_balance()\n",
        "\n",
        "\n",
        "account.deposit(-100)"
      ],
      "metadata": {
        "colab": {
          "base_uri": "https://localhost:8080/"
        },
        "id": "ufIAsio5roC8",
        "outputId": "174a1d34-5752-4318-dcbe-aebbc1f6c8d3"
      },
      "execution_count": 2,
      "outputs": [
        {
          "output_type": "stream",
          "name": "stdout",
          "text": [
            "Deposited: $500\n",
            "Current balance: $1500\n",
            "Withdrew: $200\n",
            "Current balance: $1300\n",
            "Insufficient balance.\n",
            "Current balance: $1300\n",
            "Deposit amount must be positive.\n"
          ]
        }
      ]
    },
    {
      "cell_type": "code",
      "source": [
        "#6. Demonstrate runtime polymorphism using a method play() in a base class Instrument. Derive classes Guitar and Piano that implement their own version of play()\n",
        "\n",
        "class Instrument:\n",
        "    def play(self):\n",
        "        print(\"Playing a generic instrument.\")\n",
        "\n",
        "class Guitar(Instrument):\n",
        "    def play(self):\n",
        "        print(\"Playing a guitar.\")\n",
        "\n",
        "class Piano(Instrument):\n",
        "    def play(self):\n",
        "        print(\"Playing a piano.\")\n",
        "\n",
        "def play_instrument(instrument):\n",
        "    instrument.play()\n",
        "\n",
        "guitar = Guitar()\n",
        "piano = Piano()\n",
        "\n",
        "\n",
        "play_instrument(guitar)\n",
        "play_instrument(piano)\n"
      ],
      "metadata": {
        "id": "y15OVkR_sWYS"
      },
      "execution_count": null,
      "outputs": []
    },
    {
      "cell_type": "code",
      "source": [
        "#7.Create a class MathOperations with a class method add_numbers() to add two numbers and a static method subtract_numbers() to subtract two numbers\n",
        "class MathOperations:\n",
        "\n",
        "    @classmethod\n",
        "    def add_numbers(cls, num1, num2):\n",
        "        return num1 + num2\n",
        "\n",
        "    @staticmethod\n",
        "    def subtract_numbers(num1, num2):\n",
        "        return num1 - num2\n",
        "\n",
        "result_add = MathOperations.add_numbers(10, 5)\n",
        "print(f\"Addition Result: {result_add}\")\n",
        "\n",
        "result_subtract = MathOperations.subtract_numbers(10, 5)\n",
        "print(f\"Subtraction Result: {result_subtract}\")\n"
      ],
      "metadata": {
        "id": "LNtWv99su6w3"
      },
      "execution_count": null,
      "outputs": []
    },
    {
      "cell_type": "code",
      "source": [
        "#8. Implement a class Person with a class method to count the total number of persons created\n",
        "class Person:\n",
        "    total_persons = 0\n",
        "\n",
        "    def __init__(self, name):\n",
        "        self.name = name\n",
        "        Person.total_persons += 1\n",
        "\n",
        "    @classmethod\n",
        "    def get_total_persons(cls):\n",
        "        return cls.total_persons\n",
        "\n",
        "\n",
        "person1 = Person(\"Ayush\")\n",
        "print(Person.get_total_persons())\n",
        "\n",
        "person2 = Person(\"dev\")\n",
        "print(Person.get_total_persons())\n",
        "\n",
        "\n"
      ],
      "metadata": {
        "colab": {
          "base_uri": "https://localhost:8080/"
        },
        "id": "aq0qdPzrvPJt",
        "outputId": "b47af31a-4b37-4fbf-f2da-8ce9512cfa12"
      },
      "execution_count": 3,
      "outputs": [
        {
          "output_type": "stream",
          "name": "stdout",
          "text": [
            "1\n",
            "2\n"
          ]
        }
      ]
    },
    {
      "cell_type": "code",
      "source": [
        "#9.Write a class Fraction with attributes numerator and denominator. Override the str method to display the fraction as \"numerator/denominator\".\n",
        "class Fraction:\n",
        "    def __init__(self, numerator, denominator):\n",
        "        self.numerator = numerator\n",
        "        self.denominator = denominator\n",
        "\n",
        "\n",
        "    def __str__(self):\n",
        "        return f\"{self.numerator}/{self.denominator}\"\n",
        "\n",
        "fraction1 = Fraction(3, 4)\n",
        "fraction2 = Fraction(5, 8)\n",
        "print(fraction1)\n",
        "print(fraction2)\n"
      ],
      "metadata": {
        "colab": {
          "base_uri": "https://localhost:8080/"
        },
        "id": "9zrmQgSfvrhM",
        "outputId": "5cf540be-ddde-4500-da24-e2d1addd3385"
      },
      "execution_count": 4,
      "outputs": [
        {
          "output_type": "stream",
          "name": "stdout",
          "text": [
            "3/4\n",
            "5/8\n"
          ]
        }
      ]
    },
    {
      "cell_type": "code",
      "source": [
        "#10.  Demonstrate operator overloading by creating a class Vector and overriding the add method to add two vectors.\n",
        "class Vector:\n",
        "    def __init__(self, x, y):\n",
        "        self.x = x\n",
        "        self.y = y\n",
        "\n",
        "    def __add__(self, other):\n",
        "        if isinstance(other, Vector):\n",
        "\n",
        "            return Vector(self.x + other.x, self.y + other.y)\n",
        "        else:\n",
        "            raise TypeError(\"Operands must be of type 'Vector'\")\n",
        "\n",
        "    def __str__(self):\n",
        "        return f\"({self.x}, {self.y})\"\n",
        "\n",
        "vector1 = Vector(2, 3)\n",
        "vector2 = Vector(4, 5)\n",
        "\n",
        "result_vector = vector1 + vector2\n",
        "\n",
        "print(f\"Result of adding vectors: {result_vector}\")\n"
      ],
      "metadata": {
        "colab": {
          "base_uri": "https://localhost:8080/"
        },
        "id": "9BnBbMkwwAcl",
        "outputId": "2eade9e1-0906-465e-84bc-509b2e39553d"
      },
      "execution_count": 5,
      "outputs": [
        {
          "output_type": "stream",
          "name": "stdout",
          "text": [
            "Result of adding vectors: (6, 8)\n"
          ]
        }
      ]
    },
    {
      "cell_type": "code",
      "source": [
        "#11 Create a class Person with attributes name and age. Add a method greet() that prints \"Hello, my name is {name} and I am {age} years old.\"\n",
        "\n",
        "class Person:\n",
        "    def __init__(self, name, age):\n",
        "        self.name = name\n",
        "        self.age = age\n",
        "\n",
        "    def greet(self):\n",
        "        print(f\"Hello, my name is {self.name} and I am {self.age} years old.\")\n",
        "\n",
        "\n",
        "person1 = Person(\"Ayush\", 30)\n",
        "\n",
        "\n",
        "person1.greet()\n"
      ],
      "metadata": {
        "colab": {
          "base_uri": "https://localhost:8080/"
        },
        "id": "EgSEFnX2wANv",
        "outputId": "b7eeedae-fa55-48a3-8338-b6fa2d20bb92"
      },
      "execution_count": 6,
      "outputs": [
        {
          "output_type": "stream",
          "name": "stdout",
          "text": [
            "Hello, my name is Ayush and I am 30 years old.\n"
          ]
        }
      ]
    },
    {
      "cell_type": "code",
      "source": [
        "#12.  Implement a class Student with attributes name and grades. Create a method average_grade() to compute the average of the grades\n",
        "class Student:\n",
        "    def __init__(self, name, grades):\n",
        "        self.name = name\n",
        "        self.grades = grades\n",
        "\n",
        "    def average_grade(self):\n",
        "        if self.grades:\n",
        "            return sum(self.grades) / len(self.grades)\n",
        "        else:\n",
        "            return 0\n",
        "\n",
        "student1 = Student(\"Alice\", [85, 90, 78, 92])\n",
        "\n",
        "average = student1.average_grade()\n",
        "print(f\"Average grade of {student1.name}: {average:.2f}\")\n"
      ],
      "metadata": {
        "id": "mXm5GhFhwnUW"
      },
      "execution_count": null,
      "outputs": []
    },
    {
      "cell_type": "code",
      "source": [
        "#13.  Create a class Rectangle with methods set_dimensions() to set the dimensions and area() to calculate the area\n",
        "class Rectangle:\n",
        "    def __init__(self):\n",
        "        self.length = 0\n",
        "        self.width = 0\n",
        "\n",
        "    def set_dimensions(self, length, width):\n",
        "        self.length = length\n",
        "        self.width = width\n",
        "\n",
        "    def area(self):\n",
        "        return self.length * self.width\n",
        "\n",
        "\n",
        "rectangle1 = Rectangle()\n",
        "\n",
        "\n",
        "rectangle1.set_dimensions(5, 10)\n",
        "\n",
        "print(f\"Area of the rectangle: {rectangle1.area()}\")\n"
      ],
      "metadata": {
        "colab": {
          "base_uri": "https://localhost:8080/"
        },
        "id": "-D8s3cpKwnHW",
        "outputId": "8524aabd-4547-49b4-f3b5-3a511130cdd0"
      },
      "execution_count": 7,
      "outputs": [
        {
          "output_type": "stream",
          "name": "stdout",
          "text": [
            "Area of the rectangle: 50\n"
          ]
        }
      ]
    },
    {
      "cell_type": "code",
      "source": [
        "#14. Create a class Employee with a method calculate_salary() that computes the salary based on hours worked\n",
        "\n",
        "class Employee:\n",
        "    def __init__(self, name, hours_worked, hourly_rate):\n",
        "        self.name = name\n",
        "        self.hours_worked = hours_worked\n",
        "        self.hourly_rate = hourly_rate\n",
        "\n",
        "    def calculate_salary(self):\n",
        "        return self.hours_worked * self.hourly_rate\n",
        "\n",
        "class Manager(Employee):\n",
        "    def __init__(self, name, hours_worked, hourly_rate, bonus):\n",
        "        super().__init__(name, hours_worked, hourly_rate)\n",
        "        self.bonus = bonus\n",
        "\n",
        "    def calculate_salary(self):\n",
        "        base_salary = super().calculate_salary()\n",
        "        return base_salary + self.bonus\n",
        "\n",
        "emp = Employee(\"John\", 40, 20)\n",
        "mgr = Manager(\"Alice\", 40, 30, 500)\n",
        "\n",
        "print(f\"{emp.name}'s salary: ${emp.calculate_salary()}\")\n",
        "print(f\"{mgr.name}'s salary: ${mgr.calculate_salary()}\")\n"
      ],
      "metadata": {
        "colab": {
          "base_uri": "https://localhost:8080/"
        },
        "id": "cjW7wQ1sxWuO",
        "outputId": "149c70fd-889a-4412-dcb1-61c2add3ab62"
      },
      "execution_count": 13,
      "outputs": [
        {
          "output_type": "stream",
          "name": "stdout",
          "text": [
            "John's salary: $800\n",
            "Alice's salary: $1700\n"
          ]
        }
      ]
    },
    {
      "cell_type": "code",
      "source": [
        "#15. Create a class Product with attributes name, price, and quantity. Implement a method total_price() that calculates the total price of the product.\n",
        "class Product:\n",
        "    def __init__(self, name, price, quantity):\n",
        "        self.name = name\n",
        "        self.price = price\n",
        "        self.quantity = quantity\n",
        "\n",
        "    def total_price(self):\n",
        "        return self.price * self.quantity\n",
        "\n",
        "product1 = Product(\"Laptop\", 1000, 2)\n",
        "product2 = Product(\"Phone\", 500, 3)\n",
        "\n",
        "print(f\"Total price of {product1.name}: ${product1.total_price()}\")\n",
        "print(f\"Total price of {product2.name}: ${product2.total_price()}\")\n"
      ],
      "metadata": {
        "colab": {
          "base_uri": "https://localhost:8080/"
        },
        "id": "WrEmdB9wyG8E",
        "outputId": "b3f43d87-53f3-4e99-eebe-e852b632eb46"
      },
      "execution_count": 14,
      "outputs": [
        {
          "output_type": "stream",
          "name": "stdout",
          "text": [
            "Total price of Laptop: $2000\n",
            "Total price of Phone: $1500\n"
          ]
        }
      ]
    },
    {
      "cell_type": "code",
      "source": [
        "#16. Create a class Animal with an abstract method sound(). Create two derived classes Cow and Sheep that implement the sound() method\n",
        "from abc import ABC, abstractmethod\n",
        "\n",
        "class Animal(ABC):\n",
        "\n",
        "    @abstractmethod\n",
        "    def sound(self):\n",
        "        pass\n",
        "\n",
        "class Cow(Animal):\n",
        "    def sound(self):\n",
        "        return \"Moo\"\n",
        "\n",
        "class Sheep(Animal):\n",
        "    def sound(self):\n",
        "        return \"Baa\"\n",
        "\n",
        "cow = Cow()\n",
        "sheep = Sheep()\n",
        "\n",
        "print(f\"Cow says: {cow.sound()}\")\n",
        "print(f\"Sheep says: {sheep.sound()}\")\n"
      ],
      "metadata": {
        "colab": {
          "base_uri": "https://localhost:8080/"
        },
        "id": "hbi3Y0vZya_z",
        "outputId": "6760381d-a824-4a46-f31a-e89ee7ddba6a"
      },
      "execution_count": 15,
      "outputs": [
        {
          "output_type": "stream",
          "name": "stdout",
          "text": [
            "Cow says: Moo\n",
            "Sheep says: Baa\n"
          ]
        }
      ]
    },
    {
      "cell_type": "code",
      "source": [
        "#17.Create a class Book with attributes title, author, and year_published. Add a method get_book_info() that returns a formatted string with the book's details.\n",
        "class Book:\n",
        "    def __init__(self, title, author, year_published):\n",
        "        self.title = title\n",
        "        self.author = author\n",
        "        self.year_published = year_published\n",
        "\n",
        "    def get_book_info(self):\n",
        "        return f\"'{self.title}' by {self.author} (Published in {self.year_published})\"\n",
        "\n",
        "book1 = Book(\"To Kill a Mockingbird\", \"Harper Lee\", 1960)\n",
        "book2 = Book(\"1984\", \"George Orwell\", 1949)\n",
        "\n",
        "print(book1.get_book_info())\n",
        "print(book2.get_book_info())\n"
      ],
      "metadata": {
        "colab": {
          "base_uri": "https://localhost:8080/"
        },
        "id": "gypD_9osy0pD",
        "outputId": "1ed020f6-fe41-4585-eb2c-2fa64000bbbc"
      },
      "execution_count": 16,
      "outputs": [
        {
          "output_type": "stream",
          "name": "stdout",
          "text": [
            "'To Kill a Mockingbird' by Harper Lee (Published in 1960)\n",
            "'1984' by George Orwell (Published in 1949)\n"
          ]
        }
      ]
    },
    {
      "cell_type": "code",
      "source": [
        "#18.  Create a class House with attributes address and price. Create a derived class Mansion that adds an attribute number_of_rooms.\n",
        "class House:\n",
        "    def __init__(self, address, price):\n",
        "        self.address = address\n",
        "        self.price = price\n",
        "        self.number_of_rooms = None\n",
        "\n",
        "class Mansion(House):\n",
        "    def __init__(self, address, price, number_of_rooms):\n",
        "        super().__init__(address, price)\n",
        "        self.number_of_rooms = number_of_rooms\n",
        "\n",
        "\n",
        "house1 = House(\"123 Maple Street\", 250000)\n",
        "mansion1 = Mansion(\"789 Oak Avenue\", 1200000, 10)\n",
        "\n",
        "print(f\"Address: {house1.address}, Price: ${house1.price}\")\n",
        "print(f\"Address: {mansion1.address}, Price: ${mansion1.price}, Number of Rooms: {mansion1.number_of_rooms}\")"
      ],
      "metadata": {
        "colab": {
          "base_uri": "https://localhost:8080/"
        },
        "id": "AMGfb-s-y90Q",
        "outputId": "76ef5c0c-4f3f-47c0-953d-97563370078d"
      },
      "execution_count": 17,
      "outputs": [
        {
          "output_type": "stream",
          "name": "stdout",
          "text": [
            "Address: 123 Maple Street, Price: $250000\n",
            "Address: 789 Oak Avenue, Price: $1200000, Number of Rooms: 10\n"
          ]
        }
      ]
    }
  ]
}