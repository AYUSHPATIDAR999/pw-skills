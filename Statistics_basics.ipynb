{
  "nbformat": 4,
  "nbformat_minor": 0,
  "metadata": {
    "colab": {
      "provenance": []
    },
    "kernelspec": {
      "name": "python3",
      "display_name": "Python 3"
    },
    "language_info": {
      "name": "python"
    }
  },
  "cells": [
    {
      "cell_type": "markdown",
      "source": [
        "THEORITICAL QUESTIONS\n",
        "\n",
        "Q1 What is statistics, and why is it important?\n",
        "Statistics is the science of collecting, organizing, analyzing, interpreting, and presenting data, It helps in decision-making, identifying trends, making predictions, and drawing conclusions in fields like business, science, healthcare.\n",
        "\n",
        "Q2 What are the two main types of statistics?\n",
        "Descriptive Statistics- Summarizes or describes characteristics of a dataset (e.g., mean, median, mode), Inferential Statistics- Makes predictions or inferences about a population based on a sample.\n",
        "\n",
        "Q3 What are descriptive statistics?\n",
        "These are methods used to summarize and organize data, ex- Mean, median, mode, range, variance, standard deviation, and data visualization (charts, graphs).\n",
        "\n",
        "Q4 What is inferential statistics?\n",
        "Inferential statistics involve using a sample to make generalizations about a population, Ex- Hypothesis testing, confidence intervals, regression analysis.\n",
        "\n",
        "Q5 What is sampling in statistics?\n",
        "Sampling is the process of selecting a subset (sample) from a larger group (population) to make inferences about the whole group.\n",
        "\n",
        "Q6 What are the different types of sampling methods?\n",
        "Random Sampling (each member has an equal chance)-\n",
        "Simple random, Stratified, Systematic, Cluster\n",
        "Non-Random Sampling- Convenience, Judgmental\n",
        "\n",
        "Q7 What is the difference between random and non-random sampling?\n",
        "Random Sampling- Every individual has an equal chance; reduces bias.\n",
        "Non-Random Sampling- Selection is based on factors like convenience or judgment; more prone to bias\n",
        "\n",
        "Q8 Define and give examples of qualitative and quantitative data?\n",
        "Qualitative (Categorical) Data: Describes qualities or categories.\n",
        "Ex- Eye color, gender, marital status.\n",
        "Quantitative (Numerical) Data: Represents measurable quantities.\n",
        "Ex- Height, weight, income, age.\n",
        "\n",
        "Q9 What are the different types of data in statistics?\n",
        "Qualitative Data.\n",
        "Quantitative Data, which is further divided into- Discrete (countable): e.g., number of students ,Continuous (measurable): e.g., temperature\n",
        "\n",
        "Q10 Explain nominal, ordinal, interval, and ratio levels of measurement?\n",
        "Nominal: Categories without order (e.g., gender, religion).\n",
        "Ordinal: Categories with a ranked order (e.g., satisfaction levels: poor, fair, good).\n",
        "Interval: Numerical data with equal intervals, no true zero (e.g., temperature in Celsius).\n",
        "Ratio: Like interval, but with a meaningful zero (e.g., weight, height, age)\n",
        "\n",
        "Q11 What is the measure of central tendency?\n",
        "A measure of central tendency identifies the center point or typical value of a dataset. It helps summarize a dataset with a single representative value.\n",
        "\n",
        "Q12 Define mean, median, and mode?\n",
        "Mean- The average of all values.\n",
        "Median- The middle value when data is ordered.\n",
        "Mode- The most frequently occurring value(s) in a dataset\n",
        "\n",
        "Q13 What is the significance of the measure of central tendency?\n",
        "It provides a quick snapshot of a dataset’s typical value, helping in comparisons and understanding patterns in data.\n",
        "\n",
        "Q14 What is variance, and how is it calculated?\n",
        "Variance measures how spread out the data is from the mean.\n",
        "For a sample:\n",
        "\n",
        "Variance (s^2) = ∑(xi - xˉ)^2/n-1\n",
        "\n",
        "Where: xi= each data point\n",
        "xˉ= mean\n",
        "n = number of data points\n",
        "\n",
        "Q15 What is standard deviation, and why is it important?\n",
        "Standard deviation is the square root of variance and shows the average distance of data points from the mean.\n",
        "Importance: It tells how consistent or variable the data is.\n",
        "\n",
        "Q16 Define and explain the term range in statistics?\n",
        "Range is the difference between the highest and lowest values,\n",
        "range = maximum - minimum\n",
        "\n",
        "Q17 What is the difference between variance and standard deviation?\n",
        "Variance gives the average squared deviation from the mean.\n",
        "Standard deviation is the square root of variance; it is in the same units as the data.\n",
        "\n",
        "Q18 What is skewness in a dataset?\n",
        "Skewness measures the asymmetry of the data distribution:\n",
        "\n",
        "Zero skewness = symmetrical,\n",
        "Positive skew = tail on the right,\n",
        "Negative skew = tail on the left.\n",
        "\n",
        "Q19 What does it mean if a dataset is positively or negatively skewed?\n",
        "Positively skewed: Most data is on the left, a few high values pull the tail right,\n",
        "Negatively skewed: Most data is on the right, a few low values pull the tail left.\n",
        "\n",
        "Q20 Define and explain kurtosis?\n",
        "Kurtosis measures the \"tailedness\" or sharpness of the peak of a distributionHigh kurtosis = heavy tails, more outliers,\n",
        "Low kurtosis = light tails, fewer outliers,\n",
        "Normal distribution = kurtosis of 3 (excess kurtosis = 0).\n",
        "\n",
        "Q21 What is the purpose of covariance?\n",
        "Covariance measures how two variables change together-\n",
        "Positive = variables increase together,\n",
        "Negative = one increases as the other decreases.\n",
        "\n",
        "Q22 What does correlation measure in statistics?\n",
        "Correlation measures the strength and direction of a linear relationship between two variables, typically from -1 to +1.\n",
        "\n",
        "Q23 What is the difference between covariance and correlation?\n",
        "Covariance is unstandardized and affected by units, Correlation is a normalized version of covariance, ranging from -1 to 1, unitless, and easier to interpret.\n",
        "\n",
        "Q24 What are some real-world applications of statistics?\n",
        "Healthcare: Clinical trials, disease tracking,\n",
        "Business: Market research, quality control,\n",
        "Education: Performance analysis, testing,\n",
        "Sports: Player stats, performance prediction."
      ],
      "metadata": {
        "id": "sBYFh0adWN89"
      }
    },
    {
      "cell_type": "code",
      "source": [
        "# PRACTICAL QUESTIONS\n",
        "# 1 How do you calculate the mean, median, and mode of a dataset?\n",
        "data = [4, 7, 2, 9, 4, 4, 8]\n",
        "\n",
        "import statistics as stats\n",
        "mean = stats.mean(data)\n",
        "median = stats.median(data)\n",
        "mode = stats.mode(data)\n",
        "\n",
        "print(mean, median, mode)"
      ],
      "metadata": {
        "colab": {
          "base_uri": "https://localhost:8080/"
        },
        "id": "oMhHm-GWN5M9",
        "outputId": "ebbb931d-71ae-4f43-893c-0399d3823483"
      },
      "execution_count": 2,
      "outputs": [
        {
          "output_type": "stream",
          "name": "stdout",
          "text": [
            "5.428571428571429 4 4\n"
          ]
        }
      ]
    },
    {
      "cell_type": "code",
      "source": [
        "# 2 Python program to compute variance and standard deviation?\n",
        "data = [4, 7, 2, 9, 4, 4, 8]\n",
        "\n",
        "import statistics as stats\n",
        "variance = stats.variance(data)\n",
        "std_dev = stats.stdev(data)\n",
        "\n",
        "print(variance, std_dev)"
      ],
      "metadata": {
        "colab": {
          "base_uri": "https://localhost:8080/"
        },
        "id": "QTd8HVTxQRlX",
        "outputId": "dcf2800a-dd8b-449a-d4da-fe6bbd259a35"
      },
      "execution_count": 3,
      "outputs": [
        {
          "output_type": "stream",
          "name": "stdout",
          "text": [
            "6.619047619047619 2.5727509827124\n"
          ]
        }
      ]
    },
    {
      "cell_type": "code",
      "source": [
        "# 3 Create and classify a dataset into nominal, ordinal, interval, and ratio types?\n",
        "dataset = {\"Nominal\": [\"Red\", \"Blue\", \"Green\"], \"Ordinal\": [\"Low\", \"Medium\", \"High\"], \"Interval\": [10, 20, 30], \"Ratio\": [150, 160, 170]}\n",
        "print(dataset)\n"
      ],
      "metadata": {
        "colab": {
          "base_uri": "https://localhost:8080/"
        },
        "id": "t_etrlDfQb3V",
        "outputId": "6cc4cedd-11da-470a-d2f9-5bcfff054037"
      },
      "execution_count": 5,
      "outputs": [
        {
          "output_type": "stream",
          "name": "stdout",
          "text": [
            "{'Nominal': ['Red', 'Blue', 'Green'], 'Ordinal': ['Low', 'Medium', 'High'], 'Interval': [10, 20, 30], 'Ratio': [150, 160, 170]}\n"
          ]
        }
      ]
    },
    {
      "cell_type": "code",
      "source": [
        "# 4 Implement random and stratified sampling techniques?\n",
        "help me quetsion to write a code"
      ],
      "metadata": {
        "id": "8-9BWbPORPj4"
      },
      "execution_count": null,
      "outputs": []
    },
    {
      "cell_type": "code",
      "source": [
        "# 5 Python function to calculate the range of a dataset?\n",
        "data = [4, 7, 2, 9, 4, 4, 8]\n",
        "range = max(data) - min(data)\n",
        "print(range)"
      ],
      "metadata": {
        "colab": {
          "base_uri": "https://localhost:8080/"
        },
        "id": "gddellHuR1F-",
        "outputId": "019431a5-bb2e-42cc-cb12-7c855dd46e84"
      },
      "execution_count": 6,
      "outputs": [
        {
          "output_type": "stream",
          "name": "stdout",
          "text": [
            "7\n"
          ]
        }
      ]
    },
    {
      "cell_type": "code",
      "source": [
        "# 6 Create dataset & plot histogram to visualize skewness?\n",
        "data = [4, 7, 2, 9, 4, 4, 8]\n",
        "import matplotlib.pyplot as plt\n",
        "plt.hist(data)\n",
        "plt.show()"
      ],
      "metadata": {
        "colab": {
          "base_uri": "https://localhost:8080/",
          "height": 430
        },
        "id": "oKL6JZmXSHfd",
        "outputId": "87e51793-8218-409e-8597-7d90dcdf9dc2"
      },
      "execution_count": 7,
      "outputs": [
        {
          "output_type": "display_data",
          "data": {
            "text/plain": [
              "<Figure size 640x480 with 1 Axes>"
            ],
            "image/png": "[encoded data removed]"
          },
          "metadata": {}
        }
      ]
    },
    {
      "cell_type": "code",
      "source": [
        "# 7 Calculate skewness and kurtosis using Python?\n",
        "data = [4, 7, 2, 9, 4, 4, 8]\n",
        "import scipy.stats as stats\n",
        "skewness = stats.skew(data)\n",
        "kurtosis = stats.kurtosis(data)\n",
        "print(skewness, kurtosis)"
      ],
      "metadata": {
        "colab": {
          "base_uri": "https://localhost:8080/"
        },
        "id": "qsczcRHmSNj6",
        "outputId": "8231cc62-0038-4ca7-b29f-866c87f9e61b"
      },
      "execution_count": 9,
      "outputs": [
        {
          "output_type": "stream",
          "name": "stdout",
          "text": [
            "0.18381138223246915 -1.3881010299673933\n"
          ]
        }
      ]
    },
    {
      "cell_type": "code",
      "source": [
        "# 8 Generate dataset to demonstrate positive & negative skewness?\n",
        "import seaborn as sns\n",
        "import matplotlib.pyplot as plt\n",
        "\n",
        "# Positive skew\n",
        "pos_skew = np.random.exponential(scale=2, size=1000)\n",
        "# Negative skew (invert)\n",
        "neg_skew = -np.random.exponential(scale=2, size=1000)\n",
        "\n",
        "fig, axs = plt.subplots(1, 2, figsize=(12, 5))\n",
        "sns.histplot(pos_skew, bins=30, ax=axs[0], kde=True)\n",
        "axs[0].set_title(\"Positive Skewness\")\n",
        "\n",
        "sns.histplot(neg_skew, bins=30, ax=axs[1], kde=True)\n",
        "axs[1].set_title(\"Negative Skewness\")\n",
        "\n",
        "plt.show()"
      ],
      "metadata": {
        "colab": {
          "base_uri": "https://localhost:8080/",
          "height": 468
        },
        "id": "kpwfBNgXSkU0",
        "outputId": "4aca5b64-757e-4a95-c701-fbc23a937ecd"
      },
      "execution_count": 11,
      "outputs": [
        {
          "output_type": "display_data",
          "data": {
            "text/plain": [
              "<Figure size 1200x500 with 2 Axes>"
            ],
            "image/png": "[encoded data removed]"
          },
          "metadata": {}
        }
      ]
    },
    {
      "cell_type": "code",
      "source": [
        "# 9  Python script to calculate covariance between two datasets?\n",
        "import numpy as np\n",
        "\n",
        "x = [2, 4, 6, 8]\n",
        "y = [1, 3, 2, 5]\n",
        "\n",
        "cov_matrix = np.cov(x, y)\n",
        "covariance = cov_matrix[0][1]\n",
        "\n",
        "print(covariance)"
      ],
      "metadata": {
        "colab": {
          "base_uri": "https://localhost:8080/"
        },
        "id": "Y-YdbY8lSyLJ",
        "outputId": "a9841e29-bca5-43c2-c761-08a5d17e56fe"
      },
      "execution_count": 13,
      "outputs": [
        {
          "output_type": "stream",
          "name": "stdout",
          "text": [
            "3.6666666666666665\n"
          ]
        }
      ]
    },
    {
      "cell_type": "code",
      "source": [
        "# 10 Python script to calculate the correlation coefficient?\n",
        "import numpy as np\n",
        "\n",
        "x = [2, 4, 6, 8]\n",
        "y = [1, 3, 2, 5]\n",
        "\n",
        "correlation = np.corrcoef(x, y)\n",
        "\n",
        "print(correlation)"
      ],
      "metadata": {
        "colab": {
          "base_uri": "https://localhost:8080/"
        },
        "id": "6ojruzMwTGPN",
        "outputId": "3d3f7823-9dd5-450a-e10b-990d333dffaa"
      },
      "execution_count": 14,
      "outputs": [
        {
          "output_type": "stream",
          "name": "stdout",
          "text": [
            "[[1.         0.83152184]\n",
            " [0.83152184 1.        ]]\n"
          ]
        }
      ]
    },
    {
      "cell_type": "code",
      "source": [
        "# 11 Create a scatter plot to visualize the relationship between two variables?\n",
        "import matplotlib.pyplot as plt\n",
        "\n",
        "x = [2, 4, 6, 8]\n",
        "y = [1, 3, 2, 5]\n",
        "\n",
        "plt.scatter(x, y)"
      ],
      "metadata": {
        "colab": {
          "base_uri": "https://localhost:8080/",
          "height": 448
        },
        "id": "2Ge6fbqTTOmy",
        "outputId": "dbdb6bf3-9dc8-4cd7-92e1-6cea0b4f1eb1"
      },
      "execution_count": 15,
      "outputs": [
        {
          "output_type": "execute_result",
          "data": {
            "text/plain": [
              "<matplotlib.collections.PathCollection at 0x79bc4cccac10>"
            ]
          },
          "metadata": {},
          "execution_count": 15
        },
        {
          "output_type": "display_data",
          "data": {
            "text/plain": [
              "<Figure size 640x480 with 1 Axes>"
            ],
            "image/png": "[encoded data removed]"
          },
          "metadata": {}
        }
      ]
    },
    {
      "cell_type": "code",
      "source": [
        "# 12 Implement and compare simple random and systematic sampling?\n",
        "import numpy as np\n",
        "import random\n",
        "data = pd.DataFrame({'ID': range(1, 21)})\n",
        "\n",
        "random_sample = data.sample(n=5)\n",
        "\n",
        "k = 4\n",
        "systematic_sample = data.iloc[::k]\n",
        "\n",
        "print(\"Simple Random Sampling:\\n\", random_sample)\n",
        "print(\"\\nSystematic Sampling:\\n\", systematic_sample)"
      ],
      "metadata": {
        "id": "Erscg76MTORN"
      },
      "execution_count": 20,
      "outputs": []
    },
    {
      "cell_type": "code",
      "source": [
        "# 13 Calculate mean, median, and mode of grouped data?\n",
        "import pandas as pd\n",
        "import statistics as stats\n",
        "\n",
        "# Class intervals and frequencies\n",
        "classes = ['0-10', '10-20', '20-30']\n",
        "frequencies = [5, 8, 7]\n",
        "\n",
        "# Midpoints of each class\n",
        "midpoints = [5, 15, 25]\n",
        "\n",
        "# Compute mean\n",
        "total_freq = sum(frequencies)\n",
        "mean = sum([f * m for f, m in zip(frequencies, midpoints)]) / total_freq\n",
        "\n",
        "# Median and mode in grouped data require interpolation (can be added if needed)\n",
        "print(\"Grouped Mean:\", mean)\n"
      ],
      "metadata": {
        "colab": {
          "base_uri": "https://localhost:8080/"
        },
        "id": "wKHk2wtsTuHT",
        "outputId": "b2b0a59e-0e7f-4aad-c6a0-374d80e1ee60"
      },
      "execution_count": 17,
      "outputs": [
        {
          "output_type": "stream",
          "name": "stdout",
          "text": [
            "Grouped Mean: 16.0\n"
          ]
        }
      ]
    },
    {
      "cell_type": "code",
      "source": [
        "# 14 Simulate data and calculate central tendency & dispersion?\n",
        "import numpy as np\n",
        "import statistics as stats\n",
        "\n",
        "data = np.random.normal(loc=50, scale=10, size=100)\n",
        "\n",
        "mean = stats.mean(data)\n",
        "median = stats.median(data)\n",
        "mode = stats.mode(data)\n",
        "std_dev = stats.stdev(data)\n",
        "variance = stats.variance(data)\n",
        "\n",
        "print(\"Mean:\", mean)\n",
        "print(\"Median:\", median)\n",
        "print(\"Mode:\", mode)\n",
        "print(\"Standard Deviation:\", std_dev)\n",
        "print(\"Variance:\", variance)"
      ],
      "metadata": {
        "colab": {
          "base_uri": "https://localhost:8080/"
        },
        "id": "0eWTcsWBUtyH",
        "outputId": "394a2031-c434-4dd5-9126-2453a813a006"
      },
      "execution_count": 21,
      "outputs": [
        {
          "output_type": "stream",
          "name": "stdout",
          "text": [
            "Mean: 50.036599671398434\n",
            "Median: 51.11405821316873\n",
            "Mode: 56.8980567365525\n",
            "Standard Deviation: 11.002928911965757\n",
            "Variance: 121.06444464177194\n"
          ]
        }
      ]
    },
    {
      "cell_type": "code",
      "source": [
        "# 15 Use NumPy/pandas to summarize descriptive statistics?\n",
        "import pandas as pd\n",
        "import numpy as np\n",
        "\n",
        "df = pd.DataFrame({'Scores': np.random.randint(50, 100, size=100)})\n",
        "\n",
        "print(df.describe())"
      ],
      "metadata": {
        "colab": {
          "base_uri": "https://localhost:8080/"
        },
        "id": "2Y2kMaBqYXXJ",
        "outputId": "0ddb33b1-2257-4d52-a3fd-bcf02bbccd95"
      },
      "execution_count": 22,
      "outputs": [
        {
          "output_type": "stream",
          "name": "stdout",
          "text": [
            "           Scores\n",
            "count  100.000000\n",
            "mean    75.700000\n",
            "std     14.802743\n",
            "min     50.000000\n",
            "25%     63.000000\n",
            "50%     76.000000\n",
            "75%     89.250000\n",
            "max     99.000000\n"
          ]
        }
      ]
    },
    {
      "cell_type": "code",
      "source": [
        "# 16 Plot a boxplot to understand spread and outliers?\n",
        "import matplotlib.pyplot as plt\n",
        "\n",
        "data = [4, 7, 2, 9, 4, 4, 8]\n",
        "plt.boxplot(data)\n",
        "plt.show()"
      ],
      "metadata": {
        "colab": {
          "base_uri": "https://localhost:8080/",
          "height": 430
        },
        "id": "Dm5ae85CYg4N",
        "outputId": "cd3cc21f-5206-4a90-e6e6-e446541c0c1e"
      },
      "execution_count": 23,
      "outputs": [
        {
          "output_type": "display_data",
          "data": {
            "text/plain": [
              "<Figure size 640x480 with 1 Axes>"
            ],
            "image/png": "[encoded data removed]"
          },
          "metadata": {}
        }
      ]
    },
    {
      "cell_type": "code",
      "source": [
        "# 17 Calculate the interquartile range (IQR)?\n",
        "import numpy as np\n",
        "\n",
        "data = [4, 7, 2, 9, 4, 4, 8]\n",
        "q1 = np.percentile(data, 25)\n",
        "q3 = np.percentile(data, 75)\n",
        "iqr = q3 - q1\n",
        "print(\"Q1:\", q1)\n",
        "print(\"Q3:\", q3)"
      ],
      "metadata": {
        "colab": {
          "base_uri": "https://localhost:8080/"
        },
        "id": "-PrZ62mhYnSx",
        "outputId": "1d88027c-895d-4b92-9fe9-4cca2e802243"
      },
      "execution_count": 26,
      "outputs": [
        {
          "output_type": "stream",
          "name": "stdout",
          "text": [
            "Q1: 4.0\n",
            "Q3: 7.5\n"
          ]
        }
      ]
    },
    {
      "cell_type": "code",
      "source": [
        "# 18 Implement Z-score normalization and explain its significance?\n",
        "from scipy.stats import zscore\n",
        "\n",
        "df['Z_score'] = zscore(df['Scores'])\n",
        "\n",
        "print(df.head())"
      ],
      "metadata": {
        "colab": {
          "base_uri": "https://localhost:8080/"
        },
        "id": "04Aqq6uzYnPV",
        "outputId": "99f5206d-b92f-4997-9f49-6bd9be5b0fb3"
      },
      "execution_count": 27,
      "outputs": [
        {
          "output_type": "stream",
          "name": "stdout",
          "text": [
            "   Scores   Z_score\n",
            "0      61 -0.998062\n",
            "1      87  0.767218\n",
            "2      67 -0.590690\n",
            "3      54 -1.473330\n",
            "4      80  0.291950\n"
          ]
        }
      ]
    },
    {
      "cell_type": "code",
      "source": [
        "# 19 Compare two datasets using their standard deviations?\n",
        "data1 = np.random.normal(100, 10, 100)\n",
        "data2 = np.random.normal(100, 20, 100)\n",
        "\n",
        "std1 = np.std(data1)\n",
        "std2 = np.std(data2)\n",
        "\n",
        "print(\"Standard Deviation Dataset 1:\", std1)\n",
        "print(\"Standard Deviation Dataset 2:\", std2)"
      ],
      "metadata": {
        "colab": {
          "base_uri": "https://localhost:8080/"
        },
        "id": "mCOyrApFZyuz",
        "outputId": "a17de11a-9ccc-448b-bbdd-3e452ad542bf"
      },
      "execution_count": 28,
      "outputs": [
        {
          "output_type": "stream",
          "name": "stdout",
          "text": [
            "Standard Deviation Dataset 1: 9.600027306024282\n",
            "Standard Deviation Dataset 2: 20.367550832018583\n"
          ]
        }
      ]
    },
    {
      "cell_type": "code",
      "source": [
        "# 20 Visualize covariance using a heatmap?\n",
        "import seaborn as sns\n",
        "import matplotlib.pyplot as plt\n",
        "\n",
        "df = pd.DataFrame({'A': [1, 2, 3], 'B': [4, 5, 6], 'C': [7, 8, 9]})\n",
        "cov_matrix = df.cov()\n",
        "\n",
        "sns.heatmap(cov_matrix, annot=True, cmap='coolwarm')\n",
        "plt.show()"
      ],
      "metadata": {
        "colab": {
          "base_uri": "https://localhost:8080/",
          "height": 435
        },
        "id": "BuQeRZPkZ5eD",
        "outputId": "d1987848-779d-443b-d370-bb93c19f9247"
      },
      "execution_count": 31,
      "outputs": [
        {
          "output_type": "display_data",
          "data": {
            "text/plain": [
              "<Figure size 640x480 with 2 Axes>"
            ],
            "image/png": "[encoded data removed]"
          },
          "metadata": {}
        }
      ]
    },
    {
      "cell_type": "code",
      "source": [
        "# 21 Use Seaborn to create a correlation matrix (heatmap) for a dataset?"
      ],
      "metadata": {
        "id": "ypzMox_waDR-"
      },
      "execution_count": null,
      "outputs": []
    },
    {
      "cell_type": "code",
      "source": [
        "# 22  Generate a dataset and compute variance & standard deviation?\n",
        "data = np.random.normal(100, 10, 100)\n",
        "\n",
        "variance = np.var(data)\n",
        "std_dev = np.std(data)\n",
        "\n",
        "print(\"Variance:\", variance)\n",
        "print(\"Standard Deviation:\", std_dev)"
      ],
      "metadata": {
        "colab": {
          "base_uri": "https://localhost:8080/"
        },
        "id": "HbFqK-b4bQfw",
        "outputId": "8575d350-e7f4-477c-e5b4-5ce4f2dc4060"
      },
      "execution_count": 32,
      "outputs": [
        {
          "output_type": "stream",
          "name": "stdout",
          "text": [
            "Variance: 115.46442168969453\n",
            "Standard Deviation: 10.745437249814199\n"
          ]
        }
      ]
    },
    {
      "cell_type": "code",
      "source": [
        "# 23 Visualize skewness and kurtosis using matplotlib or seaborn?\n",
        "from scipy.stats import skew, kurtosis\n",
        "\n",
        "data = np.random.exponential(scale=2, size=1000)\n",
        "\n",
        "# Skewness and kurtosis\n",
        "print(\"Skewness:\", skew(data))\n",
        "print(\"Kurtosis:\", kurtosis(data))\n",
        "\n",
        "# Visualization\n",
        "sns.histplot(data, kde=True)\n",
        "plt.title(\"Histogram Showing Skewness and Kurtosis\")\n",
        "plt.xlabel(\"Value\")\n",
        "plt.ylabel(\"Frequency\")\n",
        "plt.show()"
      ],
      "metadata": {
        "colab": {
          "base_uri": "https://localhost:8080/",
          "height": 508
        },
        "id": "OAMROVbUbZRn",
        "outputId": "3cf559e5-32f9-4859-e200-1e0b0e2762c5"
      },
      "execution_count": 33,
      "outputs": [
        {
          "output_type": "stream",
          "name": "stdout",
          "text": [
            "Skewness: 2.0734092035943186\n",
            "Kurtosis: 6.399176246271059\n"
          ]
        },
        {
          "output_type": "display_data",
          "data": {
            "text/plain": [
              "<Figure size 640x480 with 1 Axes>"
            ],
            "image/png": "[encoded data removed]"
          },
          "metadata": {}
        }
      ]
    }
  ]
}